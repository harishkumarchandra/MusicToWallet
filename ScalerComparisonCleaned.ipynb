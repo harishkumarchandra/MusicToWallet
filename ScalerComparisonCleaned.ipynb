{
  "nbformat": 4,
  "nbformat_minor": 0,
  "metadata": {
    "colab": {
      "name": "ScalerComparison.ipynb",
      "provenance": [],
      "collapsed_sections": [],
      "toc_visible": true,
      "authorship_tag": "ABX9TyPRpLNmDqv3nsa469r9HPgR",
      "include_colab_link": true
    },
    "kernelspec": {
      "name": "python3",
      "display_name": "Python 3"
    }
  },
  "cells": [
    {
      "cell_type": "markdown",
      "metadata": {
        "id": "view-in-github",
        "colab_type": "text"
      },
      "source": [
        "<a href=\"https://colab.research.google.com/github/avignal1/Project2/blob/main/ScalerComparisonCleaned.ipynb\" target=\"_parent\"><img src=\"https://colab.research.google.com/assets/colab-badge.svg\" alt=\"Open In Colab\"/></a>"
      ]
    },
    {
      "cell_type": "code",
      "metadata": {
        "id": "-81StqgYZBh_"
      },
      "source": [
        "# Initial imports\r\n",
        "import pandas as pd\r\n",
        "from pathlib import Path\r\n",
        "from sklearn.preprocessing import OneHotEncoder, StandardScaler\r\n",
        "from sklearn.model_selection import train_test_split\r\n",
        "from sklearn.preprocessing import StandardScaler\r\n",
        "from tensorflow.keras.models import Sequential\r\n",
        "from tensorflow.keras.layers import Dense\r\n",
        "from sklearn.preprocessing import MinMaxScaler\r\n",
        "from sklearn.preprocessing import RobustScaler\r\n",
        "from sklearn.preprocessing import QuantileTransformer\r\n",
        "import matplotlib.pyplot as plt\r\n"
      ],
      "execution_count": 169,
      "outputs": []
    },
    {
      "cell_type": "code",
      "metadata": {
        "colab": {
          "base_uri": "https://localhost:8080/",
          "height": 499
        },
        "id": "wrtxFxk1ZhUi",
        "outputId": "2421aaa8-6b99-44e8-e46a-8189d9d8458f"
      },
      "source": [
        "# Load the data into a DataFrame\r\n",
        "file_path = Path(\"data.csv\")\r\n",
        "data = pd.read_csv(file_path)\r\n",
        "data.head()\r\n"
      ],
      "execution_count": 170,
      "outputs": [
        {
          "output_type": "execute_result",
          "data": {
            "text/html": [
              "<div>\n",
              "<style scoped>\n",
              "    .dataframe tbody tr th:only-of-type {\n",
              "        vertical-align: middle;\n",
              "    }\n",
              "\n",
              "    .dataframe tbody tr th {\n",
              "        vertical-align: top;\n",
              "    }\n",
              "\n",
              "    .dataframe thead th {\n",
              "        text-align: right;\n",
              "    }\n",
              "</style>\n",
              "<table border=\"1\" class=\"dataframe\">\n",
              "  <thead>\n",
              "    <tr style=\"text-align: right;\">\n",
              "      <th></th>\n",
              "      <th>valence</th>\n",
              "      <th>year</th>\n",
              "      <th>acousticness</th>\n",
              "      <th>artists</th>\n",
              "      <th>danceability</th>\n",
              "      <th>duration_ms</th>\n",
              "      <th>energy</th>\n",
              "      <th>explicit</th>\n",
              "      <th>id</th>\n",
              "      <th>instrumentalness</th>\n",
              "      <th>key</th>\n",
              "      <th>liveness</th>\n",
              "      <th>loudness</th>\n",
              "      <th>mode</th>\n",
              "      <th>name</th>\n",
              "      <th>popularity</th>\n",
              "      <th>release_date</th>\n",
              "      <th>speechiness</th>\n",
              "      <th>tempo</th>\n",
              "    </tr>\n",
              "  </thead>\n",
              "  <tbody>\n",
              "    <tr>\n",
              "      <th>0</th>\n",
              "      <td>0.0594</td>\n",
              "      <td>1921</td>\n",
              "      <td>0.982</td>\n",
              "      <td>['Sergei Rachmaninoff', 'James Levine', 'Berli...</td>\n",
              "      <td>0.279</td>\n",
              "      <td>831667</td>\n",
              "      <td>0.211</td>\n",
              "      <td>0</td>\n",
              "      <td>4BJqT0PrAfrxzMOxytFOIz</td>\n",
              "      <td>0.878000</td>\n",
              "      <td>10</td>\n",
              "      <td>0.665</td>\n",
              "      <td>-20.096</td>\n",
              "      <td>1</td>\n",
              "      <td>Piano Concerto No. 3 in D Minor, Op. 30: III. ...</td>\n",
              "      <td>4</td>\n",
              "      <td>1921</td>\n",
              "      <td>0.0366</td>\n",
              "      <td>80.954</td>\n",
              "    </tr>\n",
              "    <tr>\n",
              "      <th>1</th>\n",
              "      <td>0.9630</td>\n",
              "      <td>1921</td>\n",
              "      <td>0.732</td>\n",
              "      <td>['Dennis Day']</td>\n",
              "      <td>0.819</td>\n",
              "      <td>180533</td>\n",
              "      <td>0.341</td>\n",
              "      <td>0</td>\n",
              "      <td>7xPhfUan2yNtyFG0cUWkt8</td>\n",
              "      <td>0.000000</td>\n",
              "      <td>7</td>\n",
              "      <td>0.160</td>\n",
              "      <td>-12.441</td>\n",
              "      <td>1</td>\n",
              "      <td>Clancy Lowered the Boom</td>\n",
              "      <td>5</td>\n",
              "      <td>1921</td>\n",
              "      <td>0.4150</td>\n",
              "      <td>60.936</td>\n",
              "    </tr>\n",
              "    <tr>\n",
              "      <th>2</th>\n",
              "      <td>0.0394</td>\n",
              "      <td>1921</td>\n",
              "      <td>0.961</td>\n",
              "      <td>['KHP Kridhamardawa Karaton Ngayogyakarta Hadi...</td>\n",
              "      <td>0.328</td>\n",
              "      <td>500062</td>\n",
              "      <td>0.166</td>\n",
              "      <td>0</td>\n",
              "      <td>1o6I8BglA6ylDMrIELygv1</td>\n",
              "      <td>0.913000</td>\n",
              "      <td>3</td>\n",
              "      <td>0.101</td>\n",
              "      <td>-14.850</td>\n",
              "      <td>1</td>\n",
              "      <td>Gati Bali</td>\n",
              "      <td>5</td>\n",
              "      <td>1921</td>\n",
              "      <td>0.0339</td>\n",
              "      <td>110.339</td>\n",
              "    </tr>\n",
              "    <tr>\n",
              "      <th>3</th>\n",
              "      <td>0.1650</td>\n",
              "      <td>1921</td>\n",
              "      <td>0.967</td>\n",
              "      <td>['Frank Parker']</td>\n",
              "      <td>0.275</td>\n",
              "      <td>210000</td>\n",
              "      <td>0.309</td>\n",
              "      <td>0</td>\n",
              "      <td>3ftBPsC5vPBKxYSee08FDH</td>\n",
              "      <td>0.000028</td>\n",
              "      <td>5</td>\n",
              "      <td>0.381</td>\n",
              "      <td>-9.316</td>\n",
              "      <td>1</td>\n",
              "      <td>Danny Boy</td>\n",
              "      <td>3</td>\n",
              "      <td>1921</td>\n",
              "      <td>0.0354</td>\n",
              "      <td>100.109</td>\n",
              "    </tr>\n",
              "    <tr>\n",
              "      <th>4</th>\n",
              "      <td>0.2530</td>\n",
              "      <td>1921</td>\n",
              "      <td>0.957</td>\n",
              "      <td>['Phil Regan']</td>\n",
              "      <td>0.418</td>\n",
              "      <td>166693</td>\n",
              "      <td>0.193</td>\n",
              "      <td>0</td>\n",
              "      <td>4d6HGyGT8e121BsdKmw9v6</td>\n",
              "      <td>0.000002</td>\n",
              "      <td>3</td>\n",
              "      <td>0.229</td>\n",
              "      <td>-10.096</td>\n",
              "      <td>1</td>\n",
              "      <td>When Irish Eyes Are Smiling</td>\n",
              "      <td>2</td>\n",
              "      <td>1921</td>\n",
              "      <td>0.0380</td>\n",
              "      <td>101.665</td>\n",
              "    </tr>\n",
              "  </tbody>\n",
              "</table>\n",
              "</div>"
            ],
            "text/plain": [
              "   valence  year  acousticness  ... release_date  speechiness    tempo\n",
              "0   0.0594  1921         0.982  ...         1921       0.0366   80.954\n",
              "1   0.9630  1921         0.732  ...         1921       0.4150   60.936\n",
              "2   0.0394  1921         0.961  ...         1921       0.0339  110.339\n",
              "3   0.1650  1921         0.967  ...         1921       0.0354  100.109\n",
              "4   0.2530  1921         0.957  ...         1921       0.0380  101.665\n",
              "\n",
              "[5 rows x 19 columns]"
            ]
          },
          "metadata": {
            "tags": []
          },
          "execution_count": 170
        }
      ]
    },
    {
      "cell_type": "code",
      "metadata": {
        "colab": {
          "base_uri": "https://localhost:8080/",
          "height": 314
        },
        "id": "4-gQs6_IZj8x",
        "outputId": "59c76c16-765f-4859-db06-fb50ec3ec96b"
      },
      "source": [
        "year_limit=1960\r\n",
        "data_1960_df = data[data['year']>year_limit]\r\n",
        "data_1960_df.describe()"
      ],
      "execution_count": 171,
      "outputs": [
        {
          "output_type": "execute_result",
          "data": {
            "text/html": [
              "<div>\n",
              "<style scoped>\n",
              "    .dataframe tbody tr th:only-of-type {\n",
              "        vertical-align: middle;\n",
              "    }\n",
              "\n",
              "    .dataframe tbody tr th {\n",
              "        vertical-align: top;\n",
              "    }\n",
              "\n",
              "    .dataframe thead th {\n",
              "        text-align: right;\n",
              "    }\n",
              "</style>\n",
              "<table border=\"1\" class=\"dataframe\">\n",
              "  <thead>\n",
              "    <tr style=\"text-align: right;\">\n",
              "      <th></th>\n",
              "      <th>valence</th>\n",
              "      <th>year</th>\n",
              "      <th>acousticness</th>\n",
              "      <th>danceability</th>\n",
              "      <th>duration_ms</th>\n",
              "      <th>energy</th>\n",
              "      <th>explicit</th>\n",
              "      <th>instrumentalness</th>\n",
              "      <th>key</th>\n",
              "      <th>liveness</th>\n",
              "      <th>loudness</th>\n",
              "      <th>mode</th>\n",
              "      <th>popularity</th>\n",
              "      <th>speechiness</th>\n",
              "      <th>tempo</th>\n",
              "    </tr>\n",
              "  </thead>\n",
              "  <tbody>\n",
              "    <tr>\n",
              "      <th>count</th>\n",
              "      <td>118900.000000</td>\n",
              "      <td>118900.000000</td>\n",
              "      <td>118900.000000</td>\n",
              "      <td>118900.000000</td>\n",
              "      <td>1.189000e+05</td>\n",
              "      <td>118900.000000</td>\n",
              "      <td>118900.000000</td>\n",
              "      <td>118900.000000</td>\n",
              "      <td>118900.000000</td>\n",
              "      <td>118900.000000</td>\n",
              "      <td>118900.000000</td>\n",
              "      <td>118900.000000</td>\n",
              "      <td>118900.000000</td>\n",
              "      <td>118900.000000</td>\n",
              "      <td>118900.000000</td>\n",
              "    </tr>\n",
              "    <tr>\n",
              "      <th>mean</th>\n",
              "      <td>0.538535</td>\n",
              "      <td>1990.490320</td>\n",
              "      <td>0.351550</td>\n",
              "      <td>0.554089</td>\n",
              "      <td>2.386142e+05</td>\n",
              "      <td>0.573050</td>\n",
              "      <td>0.100168</td>\n",
              "      <td>0.110133</td>\n",
              "      <td>5.214449</td>\n",
              "      <td>0.201429</td>\n",
              "      <td>-9.940915</td>\n",
              "      <td>0.707881</td>\n",
              "      <td>42.517502</td>\n",
              "      <td>0.075705</td>\n",
              "      <td>119.842238</td>\n",
              "    </tr>\n",
              "    <tr>\n",
              "      <th>std</th>\n",
              "      <td>0.260172</td>\n",
              "      <td>17.291647</td>\n",
              "      <td>0.326737</td>\n",
              "      <td>0.174301</td>\n",
              "      <td>1.116213e+05</td>\n",
              "      <td>0.248501</td>\n",
              "      <td>0.300225</td>\n",
              "      <td>0.258921</td>\n",
              "      <td>3.534181</td>\n",
              "      <td>0.178627</td>\n",
              "      <td>5.075899</td>\n",
              "      <td>0.454739</td>\n",
              "      <td>15.320393</td>\n",
              "      <td>0.090851</td>\n",
              "      <td>30.023464</td>\n",
              "    </tr>\n",
              "    <tr>\n",
              "      <th>min</th>\n",
              "      <td>0.000000</td>\n",
              "      <td>1961.000000</td>\n",
              "      <td>0.000000</td>\n",
              "      <td>0.000000</td>\n",
              "      <td>1.470800e+04</td>\n",
              "      <td>0.000000</td>\n",
              "      <td>0.000000</td>\n",
              "      <td>0.000000</td>\n",
              "      <td>0.000000</td>\n",
              "      <td>0.000000</td>\n",
              "      <td>-60.000000</td>\n",
              "      <td>0.000000</td>\n",
              "      <td>0.000000</td>\n",
              "      <td>0.000000</td>\n",
              "      <td>0.000000</td>\n",
              "    </tr>\n",
              "    <tr>\n",
              "      <th>25%</th>\n",
              "      <td>0.331000</td>\n",
              "      <td>1976.000000</td>\n",
              "      <td>0.042700</td>\n",
              "      <td>0.437000</td>\n",
              "      <td>1.809600e+05</td>\n",
              "      <td>0.392000</td>\n",
              "      <td>0.000000</td>\n",
              "      <td>0.000000</td>\n",
              "      <td>2.000000</td>\n",
              "      <td>0.093800</td>\n",
              "      <td>-12.557000</td>\n",
              "      <td>0.000000</td>\n",
              "      <td>31.000000</td>\n",
              "      <td>0.033500</td>\n",
              "      <td>96.555000</td>\n",
              "    </tr>\n",
              "    <tr>\n",
              "      <th>50%</th>\n",
              "      <td>0.546000</td>\n",
              "      <td>1990.000000</td>\n",
              "      <td>0.250000</td>\n",
              "      <td>0.563000</td>\n",
              "      <td>2.223200e+05</td>\n",
              "      <td>0.590000</td>\n",
              "      <td>0.000000</td>\n",
              "      <td>0.000062</td>\n",
              "      <td>5.000000</td>\n",
              "      <td>0.129000</td>\n",
              "      <td>-9.010000</td>\n",
              "      <td>1.000000</td>\n",
              "      <td>42.000000</td>\n",
              "      <td>0.043100</td>\n",
              "      <td>117.855500</td>\n",
              "    </tr>\n",
              "    <tr>\n",
              "      <th>75%</th>\n",
              "      <td>0.756000</td>\n",
              "      <td>2005.000000</td>\n",
              "      <td>0.640000</td>\n",
              "      <td>0.680000</td>\n",
              "      <td>2.716670e+05</td>\n",
              "      <td>0.777000</td>\n",
              "      <td>0.000000</td>\n",
              "      <td>0.014500</td>\n",
              "      <td>8.000000</td>\n",
              "      <td>0.254000</td>\n",
              "      <td>-6.260000</td>\n",
              "      <td>1.000000</td>\n",
              "      <td>53.000000</td>\n",
              "      <td>0.070600</td>\n",
              "      <td>138.513250</td>\n",
              "    </tr>\n",
              "    <tr>\n",
              "      <th>max</th>\n",
              "      <td>1.000000</td>\n",
              "      <td>2020.000000</td>\n",
              "      <td>0.996000</td>\n",
              "      <td>0.988000</td>\n",
              "      <td>5.403500e+06</td>\n",
              "      <td>1.000000</td>\n",
              "      <td>1.000000</td>\n",
              "      <td>1.000000</td>\n",
              "      <td>11.000000</td>\n",
              "      <td>1.000000</td>\n",
              "      <td>3.744000</td>\n",
              "      <td>1.000000</td>\n",
              "      <td>100.000000</td>\n",
              "      <td>0.964000</td>\n",
              "      <td>243.507000</td>\n",
              "    </tr>\n",
              "  </tbody>\n",
              "</table>\n",
              "</div>"
            ],
            "text/plain": [
              "             valence           year  ...    speechiness          tempo\n",
              "count  118900.000000  118900.000000  ...  118900.000000  118900.000000\n",
              "mean        0.538535    1990.490320  ...       0.075705     119.842238\n",
              "std         0.260172      17.291647  ...       0.090851      30.023464\n",
              "min         0.000000    1961.000000  ...       0.000000       0.000000\n",
              "25%         0.331000    1976.000000  ...       0.033500      96.555000\n",
              "50%         0.546000    1990.000000  ...       0.043100     117.855500\n",
              "75%         0.756000    2005.000000  ...       0.070600     138.513250\n",
              "max         1.000000    2020.000000  ...       0.964000     243.507000\n",
              "\n",
              "[8 rows x 15 columns]"
            ]
          },
          "metadata": {
            "tags": []
          },
          "execution_count": 171
        }
      ]
    },
    {
      "cell_type": "code",
      "metadata": {
        "colab": {
          "base_uri": "https://localhost:8080/"
        },
        "id": "o6bIP9dnZnCC",
        "outputId": "9cb96c80-b0ff-48bb-8c31-9d88e837466c"
      },
      "source": [
        "data_1960_df.columns"
      ],
      "execution_count": 172,
      "outputs": [
        {
          "output_type": "execute_result",
          "data": {
            "text/plain": [
              "Index(['valence', 'year', 'acousticness', 'artists', 'danceability',\n",
              "       'duration_ms', 'energy', 'explicit', 'id', 'instrumentalness', 'key',\n",
              "       'liveness', 'loudness', 'mode', 'name', 'popularity', 'release_date',\n",
              "       'speechiness', 'tempo'],\n",
              "      dtype='object')"
            ]
          },
          "metadata": {
            "tags": []
          },
          "execution_count": 172
        }
      ]
    },
    {
      "cell_type": "code",
      "metadata": {
        "id": "eNf_elA1Zpdg"
      },
      "source": [
        "cleanData = data_1960_df[['valence', 'year', 'acousticness', 'danceability',\r\n",
        "       'duration_ms', 'energy', 'explicit', 'instrumentalness', 'key',\r\n",
        "       'liveness', 'loudness', 'mode', \r\n",
        "       'speechiness', 'tempo', 'popularity']]"
      ],
      "execution_count": 173,
      "outputs": []
    },
    {
      "cell_type": "code",
      "metadata": {
        "colab": {
          "base_uri": "https://localhost:8080/",
          "height": 314
        },
        "id": "OBAxGUvbZrbv",
        "outputId": "3fa0f57a-bfe5-416b-a1b1-65329739a83f"
      },
      "source": [
        "cleanData.describe()"
      ],
      "execution_count": 174,
      "outputs": [
        {
          "output_type": "execute_result",
          "data": {
            "text/html": [
              "<div>\n",
              "<style scoped>\n",
              "    .dataframe tbody tr th:only-of-type {\n",
              "        vertical-align: middle;\n",
              "    }\n",
              "\n",
              "    .dataframe tbody tr th {\n",
              "        vertical-align: top;\n",
              "    }\n",
              "\n",
              "    .dataframe thead th {\n",
              "        text-align: right;\n",
              "    }\n",
              "</style>\n",
              "<table border=\"1\" class=\"dataframe\">\n",
              "  <thead>\n",
              "    <tr style=\"text-align: right;\">\n",
              "      <th></th>\n",
              "      <th>valence</th>\n",
              "      <th>year</th>\n",
              "      <th>acousticness</th>\n",
              "      <th>danceability</th>\n",
              "      <th>duration_ms</th>\n",
              "      <th>energy</th>\n",
              "      <th>explicit</th>\n",
              "      <th>instrumentalness</th>\n",
              "      <th>key</th>\n",
              "      <th>liveness</th>\n",
              "      <th>loudness</th>\n",
              "      <th>mode</th>\n",
              "      <th>speechiness</th>\n",
              "      <th>tempo</th>\n",
              "      <th>popularity</th>\n",
              "    </tr>\n",
              "  </thead>\n",
              "  <tbody>\n",
              "    <tr>\n",
              "      <th>count</th>\n",
              "      <td>118900.000000</td>\n",
              "      <td>118900.000000</td>\n",
              "      <td>118900.000000</td>\n",
              "      <td>118900.000000</td>\n",
              "      <td>1.189000e+05</td>\n",
              "      <td>118900.000000</td>\n",
              "      <td>118900.000000</td>\n",
              "      <td>118900.000000</td>\n",
              "      <td>118900.000000</td>\n",
              "      <td>118900.000000</td>\n",
              "      <td>118900.000000</td>\n",
              "      <td>118900.000000</td>\n",
              "      <td>118900.000000</td>\n",
              "      <td>118900.000000</td>\n",
              "      <td>118900.000000</td>\n",
              "    </tr>\n",
              "    <tr>\n",
              "      <th>mean</th>\n",
              "      <td>0.538535</td>\n",
              "      <td>1990.490320</td>\n",
              "      <td>0.351550</td>\n",
              "      <td>0.554089</td>\n",
              "      <td>2.386142e+05</td>\n",
              "      <td>0.573050</td>\n",
              "      <td>0.100168</td>\n",
              "      <td>0.110133</td>\n",
              "      <td>5.214449</td>\n",
              "      <td>0.201429</td>\n",
              "      <td>-9.940915</td>\n",
              "      <td>0.707881</td>\n",
              "      <td>0.075705</td>\n",
              "      <td>119.842238</td>\n",
              "      <td>42.517502</td>\n",
              "    </tr>\n",
              "    <tr>\n",
              "      <th>std</th>\n",
              "      <td>0.260172</td>\n",
              "      <td>17.291647</td>\n",
              "      <td>0.326737</td>\n",
              "      <td>0.174301</td>\n",
              "      <td>1.116213e+05</td>\n",
              "      <td>0.248501</td>\n",
              "      <td>0.300225</td>\n",
              "      <td>0.258921</td>\n",
              "      <td>3.534181</td>\n",
              "      <td>0.178627</td>\n",
              "      <td>5.075899</td>\n",
              "      <td>0.454739</td>\n",
              "      <td>0.090851</td>\n",
              "      <td>30.023464</td>\n",
              "      <td>15.320393</td>\n",
              "    </tr>\n",
              "    <tr>\n",
              "      <th>min</th>\n",
              "      <td>0.000000</td>\n",
              "      <td>1961.000000</td>\n",
              "      <td>0.000000</td>\n",
              "      <td>0.000000</td>\n",
              "      <td>1.470800e+04</td>\n",
              "      <td>0.000000</td>\n",
              "      <td>0.000000</td>\n",
              "      <td>0.000000</td>\n",
              "      <td>0.000000</td>\n",
              "      <td>0.000000</td>\n",
              "      <td>-60.000000</td>\n",
              "      <td>0.000000</td>\n",
              "      <td>0.000000</td>\n",
              "      <td>0.000000</td>\n",
              "      <td>0.000000</td>\n",
              "    </tr>\n",
              "    <tr>\n",
              "      <th>25%</th>\n",
              "      <td>0.331000</td>\n",
              "      <td>1976.000000</td>\n",
              "      <td>0.042700</td>\n",
              "      <td>0.437000</td>\n",
              "      <td>1.809600e+05</td>\n",
              "      <td>0.392000</td>\n",
              "      <td>0.000000</td>\n",
              "      <td>0.000000</td>\n",
              "      <td>2.000000</td>\n",
              "      <td>0.093800</td>\n",
              "      <td>-12.557000</td>\n",
              "      <td>0.000000</td>\n",
              "      <td>0.033500</td>\n",
              "      <td>96.555000</td>\n",
              "      <td>31.000000</td>\n",
              "    </tr>\n",
              "    <tr>\n",
              "      <th>50%</th>\n",
              "      <td>0.546000</td>\n",
              "      <td>1990.000000</td>\n",
              "      <td>0.250000</td>\n",
              "      <td>0.563000</td>\n",
              "      <td>2.223200e+05</td>\n",
              "      <td>0.590000</td>\n",
              "      <td>0.000000</td>\n",
              "      <td>0.000062</td>\n",
              "      <td>5.000000</td>\n",
              "      <td>0.129000</td>\n",
              "      <td>-9.010000</td>\n",
              "      <td>1.000000</td>\n",
              "      <td>0.043100</td>\n",
              "      <td>117.855500</td>\n",
              "      <td>42.000000</td>\n",
              "    </tr>\n",
              "    <tr>\n",
              "      <th>75%</th>\n",
              "      <td>0.756000</td>\n",
              "      <td>2005.000000</td>\n",
              "      <td>0.640000</td>\n",
              "      <td>0.680000</td>\n",
              "      <td>2.716670e+05</td>\n",
              "      <td>0.777000</td>\n",
              "      <td>0.000000</td>\n",
              "      <td>0.014500</td>\n",
              "      <td>8.000000</td>\n",
              "      <td>0.254000</td>\n",
              "      <td>-6.260000</td>\n",
              "      <td>1.000000</td>\n",
              "      <td>0.070600</td>\n",
              "      <td>138.513250</td>\n",
              "      <td>53.000000</td>\n",
              "    </tr>\n",
              "    <tr>\n",
              "      <th>max</th>\n",
              "      <td>1.000000</td>\n",
              "      <td>2020.000000</td>\n",
              "      <td>0.996000</td>\n",
              "      <td>0.988000</td>\n",
              "      <td>5.403500e+06</td>\n",
              "      <td>1.000000</td>\n",
              "      <td>1.000000</td>\n",
              "      <td>1.000000</td>\n",
              "      <td>11.000000</td>\n",
              "      <td>1.000000</td>\n",
              "      <td>3.744000</td>\n",
              "      <td>1.000000</td>\n",
              "      <td>0.964000</td>\n",
              "      <td>243.507000</td>\n",
              "      <td>100.000000</td>\n",
              "    </tr>\n",
              "  </tbody>\n",
              "</table>\n",
              "</div>"
            ],
            "text/plain": [
              "             valence           year  ...          tempo     popularity\n",
              "count  118900.000000  118900.000000  ...  118900.000000  118900.000000\n",
              "mean        0.538535    1990.490320  ...     119.842238      42.517502\n",
              "std         0.260172      17.291647  ...      30.023464      15.320393\n",
              "min         0.000000    1961.000000  ...       0.000000       0.000000\n",
              "25%         0.331000    1976.000000  ...      96.555000      31.000000\n",
              "50%         0.546000    1990.000000  ...     117.855500      42.000000\n",
              "75%         0.756000    2005.000000  ...     138.513250      53.000000\n",
              "max         1.000000    2020.000000  ...     243.507000     100.000000\n",
              "\n",
              "[8 rows x 15 columns]"
            ]
          },
          "metadata": {
            "tags": []
          },
          "execution_count": 174
        }
      ]
    },
    {
      "cell_type": "code",
      "metadata": {
        "colab": {
          "base_uri": "https://localhost:8080/",
          "height": 222
        },
        "id": "4jTo-I4WZri_",
        "outputId": "a2c3b9f1-3875-4480-9c40-83c3d4ca984d"
      },
      "source": [
        "cleanData.head()"
      ],
      "execution_count": 175,
      "outputs": [
        {
          "output_type": "execute_result",
          "data": {
            "text/html": [
              "<div>\n",
              "<style scoped>\n",
              "    .dataframe tbody tr th:only-of-type {\n",
              "        vertical-align: middle;\n",
              "    }\n",
              "\n",
              "    .dataframe tbody tr th {\n",
              "        vertical-align: top;\n",
              "    }\n",
              "\n",
              "    .dataframe thead th {\n",
              "        text-align: right;\n",
              "    }\n",
              "</style>\n",
              "<table border=\"1\" class=\"dataframe\">\n",
              "  <thead>\n",
              "    <tr style=\"text-align: right;\">\n",
              "      <th></th>\n",
              "      <th>valence</th>\n",
              "      <th>year</th>\n",
              "      <th>acousticness</th>\n",
              "      <th>danceability</th>\n",
              "      <th>duration_ms</th>\n",
              "      <th>energy</th>\n",
              "      <th>explicit</th>\n",
              "      <th>instrumentalness</th>\n",
              "      <th>key</th>\n",
              "      <th>liveness</th>\n",
              "      <th>loudness</th>\n",
              "      <th>mode</th>\n",
              "      <th>speechiness</th>\n",
              "      <th>tempo</th>\n",
              "      <th>popularity</th>\n",
              "    </tr>\n",
              "  </thead>\n",
              "  <tbody>\n",
              "    <tr>\n",
              "      <th>7806</th>\n",
              "      <td>0.343</td>\n",
              "      <td>1961</td>\n",
              "      <td>0.941</td>\n",
              "      <td>0.396</td>\n",
              "      <td>182360</td>\n",
              "      <td>0.293</td>\n",
              "      <td>0</td>\n",
              "      <td>0.000196</td>\n",
              "      <td>2</td>\n",
              "      <td>0.105</td>\n",
              "      <td>-14.062</td>\n",
              "      <td>1</td>\n",
              "      <td>0.0275</td>\n",
              "      <td>100.307</td>\n",
              "      <td>78</td>\n",
              "    </tr>\n",
              "    <tr>\n",
              "      <th>7807</th>\n",
              "      <td>0.598</td>\n",
              "      <td>1961</td>\n",
              "      <td>0.451</td>\n",
              "      <td>0.364</td>\n",
              "      <td>171600</td>\n",
              "      <td>0.607</td>\n",
              "      <td>0</td>\n",
              "      <td>0.000000</td>\n",
              "      <td>2</td>\n",
              "      <td>0.251</td>\n",
              "      <td>-9.791</td>\n",
              "      <td>1</td>\n",
              "      <td>0.1250</td>\n",
              "      <td>79.987</td>\n",
              "      <td>63</td>\n",
              "    </tr>\n",
              "    <tr>\n",
              "      <th>7808</th>\n",
              "      <td>0.356</td>\n",
              "      <td>1961</td>\n",
              "      <td>0.931</td>\n",
              "      <td>0.471</td>\n",
              "      <td>164573</td>\n",
              "      <td>0.021</td>\n",
              "      <td>0</td>\n",
              "      <td>0.000001</td>\n",
              "      <td>10</td>\n",
              "      <td>0.103</td>\n",
              "      <td>-24.385</td>\n",
              "      <td>1</td>\n",
              "      <td>0.0366</td>\n",
              "      <td>107.765</td>\n",
              "      <td>66</td>\n",
              "    </tr>\n",
              "    <tr>\n",
              "      <th>7809</th>\n",
              "      <td>0.967</td>\n",
              "      <td>1961</td>\n",
              "      <td>0.729</td>\n",
              "      <td>0.785</td>\n",
              "      <td>148040</td>\n",
              "      <td>0.776</td>\n",
              "      <td>0</td>\n",
              "      <td>0.000000</td>\n",
              "      <td>2</td>\n",
              "      <td>0.181</td>\n",
              "      <td>-5.259</td>\n",
              "      <td>1</td>\n",
              "      <td>0.0312</td>\n",
              "      <td>121.505</td>\n",
              "      <td>67</td>\n",
              "    </tr>\n",
              "    <tr>\n",
              "      <th>7810</th>\n",
              "      <td>0.800</td>\n",
              "      <td>1961</td>\n",
              "      <td>0.768</td>\n",
              "      <td>0.594</td>\n",
              "      <td>221704</td>\n",
              "      <td>0.889</td>\n",
              "      <td>0</td>\n",
              "      <td>0.000000</td>\n",
              "      <td>5</td>\n",
              "      <td>0.124</td>\n",
              "      <td>-7.775</td>\n",
              "      <td>1</td>\n",
              "      <td>0.2460</td>\n",
              "      <td>116.187</td>\n",
              "      <td>63</td>\n",
              "    </tr>\n",
              "  </tbody>\n",
              "</table>\n",
              "</div>"
            ],
            "text/plain": [
              "      valence  year  acousticness  ...  speechiness    tempo  popularity\n",
              "7806    0.343  1961         0.941  ...       0.0275  100.307          78\n",
              "7807    0.598  1961         0.451  ...       0.1250   79.987          63\n",
              "7808    0.356  1961         0.931  ...       0.0366  107.765          66\n",
              "7809    0.967  1961         0.729  ...       0.0312  121.505          67\n",
              "7810    0.800  1961         0.768  ...       0.2460  116.187          63\n",
              "\n",
              "[5 rows x 15 columns]"
            ]
          },
          "metadata": {
            "tags": []
          },
          "execution_count": 175
        }
      ]
    },
    {
      "cell_type": "code",
      "metadata": {
        "colab": {
          "base_uri": "https://localhost:8080/",
          "height": 222
        },
        "id": "aB8XXLb3ZrlV",
        "outputId": "343a7866-984d-425a-93ea-516d7e1b36b9"
      },
      "source": [
        "cleanData.tail()"
      ],
      "execution_count": 176,
      "outputs": [
        {
          "output_type": "execute_result",
          "data": {
            "text/html": [
              "<div>\n",
              "<style scoped>\n",
              "    .dataframe tbody tr th:only-of-type {\n",
              "        vertical-align: middle;\n",
              "    }\n",
              "\n",
              "    .dataframe tbody tr th {\n",
              "        vertical-align: top;\n",
              "    }\n",
              "\n",
              "    .dataframe thead th {\n",
              "        text-align: right;\n",
              "    }\n",
              "</style>\n",
              "<table border=\"1\" class=\"dataframe\">\n",
              "  <thead>\n",
              "    <tr style=\"text-align: right;\">\n",
              "      <th></th>\n",
              "      <th>valence</th>\n",
              "      <th>year</th>\n",
              "      <th>acousticness</th>\n",
              "      <th>danceability</th>\n",
              "      <th>duration_ms</th>\n",
              "      <th>energy</th>\n",
              "      <th>explicit</th>\n",
              "      <th>instrumentalness</th>\n",
              "      <th>key</th>\n",
              "      <th>liveness</th>\n",
              "      <th>loudness</th>\n",
              "      <th>mode</th>\n",
              "      <th>speechiness</th>\n",
              "      <th>tempo</th>\n",
              "      <th>popularity</th>\n",
              "    </tr>\n",
              "  </thead>\n",
              "  <tbody>\n",
              "    <tr>\n",
              "      <th>170648</th>\n",
              "      <td>0.608</td>\n",
              "      <td>2020</td>\n",
              "      <td>0.08460</td>\n",
              "      <td>0.786</td>\n",
              "      <td>301714</td>\n",
              "      <td>0.808</td>\n",
              "      <td>0</td>\n",
              "      <td>0.000289</td>\n",
              "      <td>7</td>\n",
              "      <td>0.0822</td>\n",
              "      <td>-3.702</td>\n",
              "      <td>1</td>\n",
              "      <td>0.0881</td>\n",
              "      <td>105.029</td>\n",
              "      <td>72</td>\n",
              "    </tr>\n",
              "    <tr>\n",
              "      <th>170649</th>\n",
              "      <td>0.734</td>\n",
              "      <td>2020</td>\n",
              "      <td>0.20600</td>\n",
              "      <td>0.717</td>\n",
              "      <td>150654</td>\n",
              "      <td>0.753</td>\n",
              "      <td>0</td>\n",
              "      <td>0.000000</td>\n",
              "      <td>7</td>\n",
              "      <td>0.1010</td>\n",
              "      <td>-6.020</td>\n",
              "      <td>1</td>\n",
              "      <td>0.0605</td>\n",
              "      <td>137.936</td>\n",
              "      <td>68</td>\n",
              "    </tr>\n",
              "    <tr>\n",
              "      <th>170650</th>\n",
              "      <td>0.637</td>\n",
              "      <td>2020</td>\n",
              "      <td>0.10100</td>\n",
              "      <td>0.634</td>\n",
              "      <td>211280</td>\n",
              "      <td>0.858</td>\n",
              "      <td>0</td>\n",
              "      <td>0.000009</td>\n",
              "      <td>4</td>\n",
              "      <td>0.2580</td>\n",
              "      <td>-2.226</td>\n",
              "      <td>0</td>\n",
              "      <td>0.0809</td>\n",
              "      <td>91.688</td>\n",
              "      <td>76</td>\n",
              "    </tr>\n",
              "    <tr>\n",
              "      <th>170651</th>\n",
              "      <td>0.195</td>\n",
              "      <td>2020</td>\n",
              "      <td>0.00998</td>\n",
              "      <td>0.671</td>\n",
              "      <td>337147</td>\n",
              "      <td>0.623</td>\n",
              "      <td>1</td>\n",
              "      <td>0.000008</td>\n",
              "      <td>2</td>\n",
              "      <td>0.6430</td>\n",
              "      <td>-7.161</td>\n",
              "      <td>1</td>\n",
              "      <td>0.3080</td>\n",
              "      <td>75.055</td>\n",
              "      <td>70</td>\n",
              "    </tr>\n",
              "    <tr>\n",
              "      <th>170652</th>\n",
              "      <td>0.642</td>\n",
              "      <td>2020</td>\n",
              "      <td>0.13200</td>\n",
              "      <td>0.856</td>\n",
              "      <td>189507</td>\n",
              "      <td>0.721</td>\n",
              "      <td>1</td>\n",
              "      <td>0.004710</td>\n",
              "      <td>7</td>\n",
              "      <td>0.1820</td>\n",
              "      <td>-4.928</td>\n",
              "      <td>1</td>\n",
              "      <td>0.1080</td>\n",
              "      <td>94.991</td>\n",
              "      <td>74</td>\n",
              "    </tr>\n",
              "  </tbody>\n",
              "</table>\n",
              "</div>"
            ],
            "text/plain": [
              "        valence  year  acousticness  ...  speechiness    tempo  popularity\n",
              "170648    0.608  2020       0.08460  ...       0.0881  105.029          72\n",
              "170649    0.734  2020       0.20600  ...       0.0605  137.936          68\n",
              "170650    0.637  2020       0.10100  ...       0.0809   91.688          76\n",
              "170651    0.195  2020       0.00998  ...       0.3080   75.055          70\n",
              "170652    0.642  2020       0.13200  ...       0.1080   94.991          74\n",
              "\n",
              "[5 rows x 15 columns]"
            ]
          },
          "metadata": {
            "tags": []
          },
          "execution_count": 176
        }
      ]
    },
    {
      "cell_type": "code",
      "metadata": {
        "id": "apCirYcxZrnp"
      },
      "source": [
        "X = cleanData.iloc[:, 0:14].values\r\n",
        "y = cleanData.iloc[:, 14].values"
      ],
      "execution_count": 177,
      "outputs": []
    },
    {
      "cell_type": "code",
      "metadata": {
        "colab": {
          "base_uri": "https://localhost:8080/"
        },
        "id": "WW_mFLGdZy0I",
        "outputId": "6a407483-cb2c-4016-b41c-6cf5217cfbd1"
      },
      "source": [
        "X[[0]]"
      ],
      "execution_count": 178,
      "outputs": [
        {
          "output_type": "execute_result",
          "data": {
            "text/plain": [
              "array([[ 3.43000e-01,  1.96100e+03,  9.41000e-01,  3.96000e-01,\n",
              "         1.82360e+05,  2.93000e-01,  0.00000e+00,  1.96000e-04,\n",
              "         2.00000e+00,  1.05000e-01, -1.40620e+01,  1.00000e+00,\n",
              "         2.75000e-02,  1.00307e+02]])"
            ]
          },
          "metadata": {
            "tags": []
          },
          "execution_count": 178
        }
      ]
    },
    {
      "cell_type": "code",
      "metadata": {
        "colab": {
          "base_uri": "https://localhost:8080/"
        },
        "id": "VCrTPLlBZy2Z",
        "outputId": "b2d14e66-a112-4860-a84c-179d295b844f"
      },
      "source": [
        "y[0]"
      ],
      "execution_count": 179,
      "outputs": [
        {
          "output_type": "execute_result",
          "data": {
            "text/plain": [
              "78"
            ]
          },
          "metadata": {
            "tags": []
          },
          "execution_count": 179
        }
      ]
    },
    {
      "cell_type": "code",
      "metadata": {
        "id": "fzyn1gYZZy4p"
      },
      "source": [
        "scaler = RobustScaler().fit(X)\r\n",
        "X1 = scaler.transform(X)"
      ],
      "execution_count": 180,
      "outputs": []
    },
    {
      "cell_type": "code",
      "metadata": {
        "id": "e-aCjtbAd4-L"
      },
      "source": [
        "scaler = StandardScaler().fit(X)\r\n",
        "X2 = scaler.transform(X)"
      ],
      "execution_count": 181,
      "outputs": []
    },
    {
      "cell_type": "code",
      "metadata": {
        "id": "uxmV7xHMd5IG"
      },
      "source": [
        "scaler = MinMaxScaler().fit(X)\r\n",
        "X3 = scaler.transform(X)"
      ],
      "execution_count": 182,
      "outputs": []
    },
    {
      "cell_type": "code",
      "metadata": {
        "id": "6HHONSfAhcNK"
      },
      "source": [
        "scaler = QuantileTransformer().fit(X)\r\n",
        "X4 = scaler.transform(X)"
      ],
      "execution_count": 183,
      "outputs": []
    },
    {
      "cell_type": "code",
      "metadata": {
        "id": "DqlTmVAlZ5-o"
      },
      "source": [
        "#RobustScaler\r\n",
        "nn_1 = Sequential()\r\n",
        "\r\n",
        "# Hidden layer\r\n",
        "nn_1.add(Dense(units=64, input_dim=14, activation=\"relu\"))\r\n",
        "\r\n",
        "# Second hidden layer\r\n",
        "nn_1.add(Dense(units=32, activation=\"relu\"))\r\n",
        "\r\n",
        "# third hidden layer\r\n",
        "nn_1.add(Dense(units=16, activation=\"relu\"))\r\n",
        "\r\n",
        "# fouth hidden layer\r\n",
        "nn_1.add(Dense(units=8, activation=\"relu\"))\r\n",
        "\r\n",
        "# Output layer\r\n",
        "nn_1.add(Dense(units=1, activation=\"linear\"))"
      ],
      "execution_count": 184,
      "outputs": []
    },
    {
      "cell_type": "code",
      "metadata": {
        "id": "rP9lfyh-eppe"
      },
      "source": [
        "#StandardScaler\r\n",
        "nn_2 = Sequential()\r\n",
        "\r\n",
        "# Hidden layer\r\n",
        "nn_2.add(Dense(units=64, input_dim=14, activation=\"relu\"))\r\n",
        "\r\n",
        "# Second hidden layer\r\n",
        "nn_2.add(Dense(units=32, activation=\"relu\"))\r\n",
        "\r\n",
        "# third hidden layer\r\n",
        "nn_2.add(Dense(units=16, activation=\"relu\"))\r\n",
        "\r\n",
        "# fouth hidden layer\r\n",
        "nn_2.add(Dense(units=8, activation=\"relu\"))\r\n",
        "\r\n",
        "# Output layer\r\n",
        "nn_2.add(Dense(units=1, activation=\"linear\"))"
      ],
      "execution_count": 185,
      "outputs": []
    },
    {
      "cell_type": "code",
      "metadata": {
        "id": "oUz32Ykgep0P"
      },
      "source": [
        "#MinMaxScaler\r\n",
        "nn_3 = Sequential()\r\n",
        "\r\n",
        "# Hidden layer\r\n",
        "nn_3.add(Dense(units=64, input_dim=14, activation=\"relu\"))\r\n",
        "\r\n",
        "# Second hidden layer\r\n",
        "nn_3.add(Dense(units=32, activation=\"relu\"))\r\n",
        "\r\n",
        "# third hidden layer\r\n",
        "nn_3.add(Dense(units=16, activation=\"relu\"))\r\n",
        "\r\n",
        "# fouth hidden layer\r\n",
        "nn_3.add(Dense(units=8, activation=\"relu\"))\r\n",
        "\r\n",
        "# Output layer\r\n",
        "nn_3.add(Dense(units=1, activation=\"linear\"))"
      ],
      "execution_count": 186,
      "outputs": []
    },
    {
      "cell_type": "code",
      "metadata": {
        "id": "diZ6exkThnPN"
      },
      "source": [
        "#QuantileTransformer\r\n",
        "nn_4 = Sequential()\r\n",
        "\r\n",
        "# Hidden layer\r\n",
        "nn_4.add(Dense(units=64, input_dim=14, activation=\"relu\"))\r\n",
        "\r\n",
        "# Second hidden layer\r\n",
        "nn_4.add(Dense(units=32, activation=\"relu\"))\r\n",
        "\r\n",
        "# third hidden layer\r\n",
        "nn_4.add(Dense(units=16, activation=\"relu\"))\r\n",
        "\r\n",
        "# fouth hidden layer\r\n",
        "nn_4.add(Dense(units=8, activation=\"relu\"))\r\n",
        "\r\n",
        "# Output layer\r\n",
        "nn_4.add(Dense(units=1, activation=\"linear\"))"
      ],
      "execution_count": 187,
      "outputs": []
    },
    {
      "cell_type": "code",
      "metadata": {
        "id": "U_vMOpllZ73Z"
      },
      "source": [
        "# Compile the model 1 using RobustScaler\r\n",
        "nn_1.compile(loss=\"mean_squared_error\", optimizer=\"adam\", metrics=[\"mse\"])"
      ],
      "execution_count": 188,
      "outputs": []
    },
    {
      "cell_type": "code",
      "metadata": {
        "id": "K7UdCnRqezFd"
      },
      "source": [
        "# Compile the model 2 using StandardScaler\r\n",
        "nn_2.compile(loss=\"mean_squared_error\", optimizer=\"adam\", metrics=[\"mse\"])"
      ],
      "execution_count": 189,
      "outputs": []
    },
    {
      "cell_type": "code",
      "metadata": {
        "id": "2KX0tRIyezHw"
      },
      "source": [
        "# Compile the model 3 using MinMaxScaler\r\n",
        "nn_3.compile(loss=\"mean_squared_error\", optimizer=\"adam\", metrics=[\"mse\"])"
      ],
      "execution_count": 190,
      "outputs": []
    },
    {
      "cell_type": "code",
      "metadata": {
        "id": "TjM-ZZb9hslx"
      },
      "source": [
        "# Compile the model 4 using QuantileTransformer\r\n",
        "nn_4.compile(loss=\"mean_squared_error\", optimizer=\"adam\", metrics=[\"mse\"])"
      ],
      "execution_count": 191,
      "outputs": []
    },
    {
      "cell_type": "code",
      "metadata": {
        "colab": {
          "base_uri": "https://localhost:8080/"
        },
        "id": "Bf-uqMR_Z8OA",
        "outputId": "448c858b-fdd2-4c59-872d-d81a25dce8a8"
      },
      "source": [
        "# Fit the model 1 using RobustScaler\r\n",
        "model_1 = nn_1.fit(X1, y, validation_split=0.3, epochs=10)"
      ],
      "execution_count": 192,
      "outputs": [
        {
          "output_type": "stream",
          "text": [
            "Epoch 1/10\n",
            "2601/2601 [==============================] - 5s 2ms/step - loss: 425.5073 - mse: 425.5073 - val_loss: 156.9906 - val_mse: 156.9906\n",
            "Epoch 2/10\n",
            "2601/2601 [==============================] - 4s 2ms/step - loss: 115.2746 - mse: 115.2746 - val_loss: 199.0086 - val_mse: 199.0086\n",
            "Epoch 3/10\n",
            "2601/2601 [==============================] - 4s 2ms/step - loss: 110.8222 - mse: 110.8222 - val_loss: 174.5690 - val_mse: 174.5690\n",
            "Epoch 4/10\n",
            "2601/2601 [==============================] - 4s 2ms/step - loss: 111.4201 - mse: 111.4201 - val_loss: 194.5954 - val_mse: 194.5954\n",
            "Epoch 5/10\n",
            "2601/2601 [==============================] - 4s 2ms/step - loss: 110.0585 - mse: 110.0585 - val_loss: 189.4042 - val_mse: 189.4042\n",
            "Epoch 6/10\n",
            "2601/2601 [==============================] - 4s 2ms/step - loss: 111.6749 - mse: 111.6749 - val_loss: 212.3137 - val_mse: 212.3137\n",
            "Epoch 7/10\n",
            "2601/2601 [==============================] - 4s 2ms/step - loss: 109.6318 - mse: 109.6318 - val_loss: 177.8336 - val_mse: 177.8336\n",
            "Epoch 8/10\n",
            "2601/2601 [==============================] - 4s 2ms/step - loss: 109.9053 - mse: 109.9053 - val_loss: 180.5564 - val_mse: 180.5564\n",
            "Epoch 9/10\n",
            "2601/2601 [==============================] - 4s 2ms/step - loss: 107.7366 - mse: 107.7366 - val_loss: 179.6441 - val_mse: 179.6441\n",
            "Epoch 10/10\n",
            "2601/2601 [==============================] - 4s 2ms/step - loss: 107.8499 - mse: 107.8499 - val_loss: 199.8752 - val_mse: 199.8752\n"
          ],
          "name": "stdout"
        }
      ]
    },
    {
      "cell_type": "code",
      "metadata": {
        "colab": {
          "base_uri": "https://localhost:8080/"
        },
        "id": "ZfoDFVqbeHcN",
        "outputId": "99e6ba44-ab35-41b5-f74d-86f0ff858230"
      },
      "source": [
        "# Fit the model 2 using StandardScaler\r\n",
        "model_2 = nn_2.fit(X2, y, validation_split=0.3, epochs=10)"
      ],
      "execution_count": 193,
      "outputs": [
        {
          "output_type": "stream",
          "text": [
            "Epoch 1/10\n",
            "2601/2601 [==============================] - 5s 2ms/step - loss: 398.2698 - mse: 398.2698 - val_loss: 167.2107 - val_mse: 167.2107\n",
            "Epoch 2/10\n",
            "2601/2601 [==============================] - 4s 2ms/step - loss: 112.9416 - mse: 112.9416 - val_loss: 196.7641 - val_mse: 196.7641\n",
            "Epoch 3/10\n",
            "2601/2601 [==============================] - 4s 2ms/step - loss: 113.5136 - mse: 113.5136 - val_loss: 204.4968 - val_mse: 204.4968\n",
            "Epoch 4/10\n",
            "2601/2601 [==============================] - 5s 2ms/step - loss: 109.0914 - mse: 109.0914 - val_loss: 155.9955 - val_mse: 155.9955\n",
            "Epoch 5/10\n",
            "2601/2601 [==============================] - 4s 2ms/step - loss: 108.8623 - mse: 108.8623 - val_loss: 175.9642 - val_mse: 175.9642\n",
            "Epoch 6/10\n",
            "2601/2601 [==============================] - 4s 2ms/step - loss: 109.5902 - mse: 109.5902 - val_loss: 167.5537 - val_mse: 167.5537\n",
            "Epoch 7/10\n",
            "2601/2601 [==============================] - 4s 2ms/step - loss: 106.9502 - mse: 106.9502 - val_loss: 180.8593 - val_mse: 180.8593\n",
            "Epoch 8/10\n",
            "2601/2601 [==============================] - 4s 2ms/step - loss: 108.5117 - mse: 108.5117 - val_loss: 197.7264 - val_mse: 197.7264\n",
            "Epoch 9/10\n",
            "2601/2601 [==============================] - 4s 2ms/step - loss: 106.8115 - mse: 106.8115 - val_loss: 180.1936 - val_mse: 180.1936\n",
            "Epoch 10/10\n",
            "2601/2601 [==============================] - 4s 2ms/step - loss: 105.4057 - mse: 105.4057 - val_loss: 162.7993 - val_mse: 162.7993\n"
          ],
          "name": "stdout"
        }
      ]
    },
    {
      "cell_type": "code",
      "metadata": {
        "colab": {
          "base_uri": "https://localhost:8080/"
        },
        "id": "5Fhi4lwFeHjG",
        "outputId": "04cdf777-f32a-460b-8fe0-07764b8a7e58"
      },
      "source": [
        "# Fit the model 3 using MinMaxScaler\r\n",
        "model_3 = nn_3.fit(X3, y, validation_split=0.3, epochs=10)"
      ],
      "execution_count": 194,
      "outputs": [
        {
          "output_type": "stream",
          "text": [
            "Epoch 1/10\n",
            "2601/2601 [==============================] - 5s 2ms/step - loss: 407.5864 - mse: 407.5864 - val_loss: 215.0418 - val_mse: 215.0418\n",
            "Epoch 2/10\n",
            "2601/2601 [==============================] - 4s 2ms/step - loss: 114.1301 - mse: 114.1301 - val_loss: 153.0482 - val_mse: 153.0482\n",
            "Epoch 3/10\n",
            "2601/2601 [==============================] - 4s 2ms/step - loss: 113.1900 - mse: 113.1900 - val_loss: 183.2457 - val_mse: 183.2457\n",
            "Epoch 4/10\n",
            "2601/2601 [==============================] - 4s 2ms/step - loss: 112.1803 - mse: 112.1803 - val_loss: 201.9800 - val_mse: 201.9800\n",
            "Epoch 5/10\n",
            "2601/2601 [==============================] - 4s 2ms/step - loss: 113.6906 - mse: 113.6906 - val_loss: 166.8571 - val_mse: 166.8571\n",
            "Epoch 6/10\n",
            "2601/2601 [==============================] - 4s 2ms/step - loss: 110.7873 - mse: 110.7873 - val_loss: 217.7014 - val_mse: 217.7014\n",
            "Epoch 7/10\n",
            "2601/2601 [==============================] - 4s 2ms/step - loss: 112.9969 - mse: 112.9969 - val_loss: 202.6102 - val_mse: 202.6102\n",
            "Epoch 8/10\n",
            "2601/2601 [==============================] - 4s 2ms/step - loss: 110.4722 - mse: 110.4722 - val_loss: 156.9621 - val_mse: 156.9621\n",
            "Epoch 9/10\n",
            "2601/2601 [==============================] - 4s 2ms/step - loss: 110.7560 - mse: 110.7560 - val_loss: 249.9302 - val_mse: 249.9302\n",
            "Epoch 10/10\n",
            "2601/2601 [==============================] - 5s 2ms/step - loss: 109.6407 - mse: 109.6407 - val_loss: 186.5916 - val_mse: 186.5916\n"
          ],
          "name": "stdout"
        }
      ]
    },
    {
      "cell_type": "code",
      "metadata": {
        "colab": {
          "base_uri": "https://localhost:8080/"
        },
        "id": "9dCRVs9Hhv6p",
        "outputId": "c6ee1ecd-8ee9-42e6-dfd7-06b025369b6a"
      },
      "source": [
        "# Fit the model 1 using QuantileTransformer\r\n",
        "model_4 = nn_4.fit(X4, y, validation_split=0.3, epochs=10)"
      ],
      "execution_count": 195,
      "outputs": [
        {
          "output_type": "stream",
          "text": [
            "Epoch 1/10\n",
            "2601/2601 [==============================] - 4s 2ms/step - loss: 111.8254 - mse: 111.8254 - val_loss: 196.3264 - val_mse: 196.3264\n",
            "Epoch 2/10\n",
            "2601/2601 [==============================] - 4s 2ms/step - loss: 109.3548 - mse: 109.3548 - val_loss: 192.3590 - val_mse: 192.3590\n",
            "Epoch 3/10\n",
            "2601/2601 [==============================] - 4s 2ms/step - loss: 108.0860 - mse: 108.0860 - val_loss: 174.6113 - val_mse: 174.6113\n",
            "Epoch 4/10\n",
            "2601/2601 [==============================] - 4s 2ms/step - loss: 107.1070 - mse: 107.1070 - val_loss: 210.2374 - val_mse: 210.2374\n",
            "Epoch 5/10\n",
            "2601/2601 [==============================] - 4s 2ms/step - loss: 106.3872 - mse: 106.3872 - val_loss: 183.6917 - val_mse: 183.6917\n",
            "Epoch 6/10\n",
            "2601/2601 [==============================] - 4s 2ms/step - loss: 105.7543 - mse: 105.7543 - val_loss: 175.2399 - val_mse: 175.2399\n",
            "Epoch 7/10\n",
            "2601/2601 [==============================] - 5s 2ms/step - loss: 105.4059 - mse: 105.4059 - val_loss: 162.3500 - val_mse: 162.3500\n",
            "Epoch 8/10\n",
            "2601/2601 [==============================] - 5s 2ms/step - loss: 104.9851 - mse: 104.9851 - val_loss: 212.6163 - val_mse: 212.6163\n",
            "Epoch 9/10\n",
            "2601/2601 [==============================] - 4s 2ms/step - loss: 104.7179 - mse: 104.7179 - val_loss: 138.4396 - val_mse: 138.4396\n",
            "Epoch 10/10\n",
            "2601/2601 [==============================] - 4s 2ms/step - loss: 104.6324 - mse: 104.6324 - val_loss: 188.4882 - val_mse: 188.4882\n"
          ],
          "name": "stdout"
        }
      ]
    },
    {
      "cell_type": "code",
      "metadata": {
        "id": "kGWSn38daRxo"
      },
      "source": [
        "Y1 = nn_1.predict(X1)\r\n",
        "Y2 = nn_2.predict(X2)\r\n",
        "Y3 = nn_3.predict(X3)\r\n",
        "Y4 = nn_4.predict(X4)"
      ],
      "execution_count": 196,
      "outputs": []
    },
    {
      "cell_type": "code",
      "metadata": {
        "id": "fDiErsRfdbut"
      },
      "source": [
        "from sklearn.metrics import accuracy_score\r\n",
        "\r\n",
        "Y1 = Y1.astype(int)\r\n",
        "Y2 = Y2.astype(int)\r\n",
        "Y3 = Y3.astype(int)\r\n",
        "Y4 = Y4.astype(int)"
      ],
      "execution_count": 197,
      "outputs": []
    },
    {
      "cell_type": "code",
      "metadata": {
        "id": "EbN_1tKrfvHy"
      },
      "source": [
        "acc_score_1 = accuracy_score(y, Y1)\r\n",
        "acc_score_2 = accuracy_score(y, Y2)\r\n",
        "acc_score_3 = accuracy_score(y, Y3)\r\n",
        "acc_score_4 = accuracy_score(y, Y4)\r\n"
      ],
      "execution_count": 198,
      "outputs": []
    },
    {
      "cell_type": "code",
      "metadata": {
        "colab": {
          "base_uri": "https://localhost:8080/"
        },
        "id": "bk8RuuvYdiN7",
        "outputId": "964cda04-6c4e-43e6-e364-c3c8eec78d2b"
      },
      "source": [
        "print(f\"The accuracy score using RobustScaler is {acc_score_1}\")\r\n",
        "print(f\"The accuracy score using StandardScaler is {acc_score_2}\")\r\n",
        "print(f\"The accuracy score using MinMaxScaler is {acc_score_3}\")\r\n",
        "print(f\"The accuracy score using QuantileTransformer is {acc_score_4}\")"
      ],
      "execution_count": 199,
      "outputs": [
        {
          "output_type": "stream",
          "text": [
            "The accuracy score using RobustScaler is 0.014844407064760303\n",
            "The accuracy score using StandardScaler is 0.03509671993271657\n",
            "The accuracy score using MinMaxScaler is 0.034373423044575274\n",
            "The accuracy score using QuantileTransformer is 0.005517241379310344\n"
          ],
          "name": "stdout"
        }
      ]
    }
  ]
}