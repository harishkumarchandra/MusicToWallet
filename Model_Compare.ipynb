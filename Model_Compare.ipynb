{
  "nbformat": 4,
  "nbformat_minor": 0,
  "metadata": {
    "colab": {
      "name": "Model_Compare.ipynb",
      "provenance": [],
      "collapsed_sections": []
    },
    "kernelspec": {
      "name": "python3",
      "display_name": "Python 3"
    }
  },
  "cells": [
    {
      "cell_type": "markdown",
      "metadata": {
        "id": "29OEjqIYT4wa"
      },
      "source": [
        "# **Import Library**"
      ]
    },
    {
      "cell_type": "code",
      "metadata": {
        "id": "I2HmTp65-0J6"
      },
      "source": [
        "# Initial imports\r\n",
        "import pandas as pd\r\n",
        "from pathlib import Path\r\n",
        "from sklearn.model_selection import train_test_split\r\n",
        "from sklearn.preprocessing import StandardScaler\r\n",
        "from tensorflow.keras.models import Sequential\r\n",
        "from tensorflow.keras.layers import Dense\r\n",
        "from sklearn.preprocessing import MinMaxScaler\r\n",
        "import matplotlib.pyplot as plt\r\n",
        "from sklearn.metrics import accuracy_score\r\n",
        "from sklearn.ensemble import RandomForestClassifier\r\n",
        "from sklearn import tree\r\n",
        "from sklearn.ensemble import GradientBoostingClassifier"
      ],
      "execution_count": null,
      "outputs": []
    },
    {
      "cell_type": "markdown",
      "metadata": {
        "id": "x7ZnhkIIUBEW"
      },
      "source": [
        "## **Data Preparation**"
      ]
    },
    {
      "cell_type": "code",
      "metadata": {
        "colab": {
          "base_uri": "https://localhost:8080/",
          "height": 496
        },
        "id": "5yedPG9Q_RZr",
        "outputId": "c4e11dac-709a-413e-a0ec-a3904b0f14a6"
      },
      "source": [
        "# Load the data into a DataFrame\r\n",
        "file_path = Path(\"data.csv\")\r\n",
        "data = pd.read_csv(file_path)\r\n",
        "data.head()"
      ],
      "execution_count": null,
      "outputs": [
        {
          "output_type": "execute_result",
          "data": {
            "text/html": [
              "<div>\n",
              "<style scoped>\n",
              "    .dataframe tbody tr th:only-of-type {\n",
              "        vertical-align: middle;\n",
              "    }\n",
              "\n",
              "    .dataframe tbody tr th {\n",
              "        vertical-align: top;\n",
              "    }\n",
              "\n",
              "    .dataframe thead th {\n",
              "        text-align: right;\n",
              "    }\n",
              "</style>\n",
              "<table border=\"1\" class=\"dataframe\">\n",
              "  <thead>\n",
              "    <tr style=\"text-align: right;\">\n",
              "      <th></th>\n",
              "      <th>valence</th>\n",
              "      <th>year</th>\n",
              "      <th>acousticness</th>\n",
              "      <th>artists</th>\n",
              "      <th>danceability</th>\n",
              "      <th>duration_ms</th>\n",
              "      <th>energy</th>\n",
              "      <th>explicit</th>\n",
              "      <th>id</th>\n",
              "      <th>instrumentalness</th>\n",
              "      <th>key</th>\n",
              "      <th>liveness</th>\n",
              "      <th>loudness</th>\n",
              "      <th>mode</th>\n",
              "      <th>name</th>\n",
              "      <th>popularity</th>\n",
              "      <th>release_date</th>\n",
              "      <th>speechiness</th>\n",
              "      <th>tempo</th>\n",
              "    </tr>\n",
              "  </thead>\n",
              "  <tbody>\n",
              "    <tr>\n",
              "      <th>0</th>\n",
              "      <td>0.0594</td>\n",
              "      <td>1921</td>\n",
              "      <td>0.982</td>\n",
              "      <td>['Sergei Rachmaninoff', 'James Levine', 'Berli...</td>\n",
              "      <td>0.279</td>\n",
              "      <td>831667</td>\n",
              "      <td>0.211</td>\n",
              "      <td>0</td>\n",
              "      <td>4BJqT0PrAfrxzMOxytFOIz</td>\n",
              "      <td>0.878000</td>\n",
              "      <td>10</td>\n",
              "      <td>0.665</td>\n",
              "      <td>-20.096</td>\n",
              "      <td>1</td>\n",
              "      <td>Piano Concerto No. 3 in D Minor, Op. 30: III. ...</td>\n",
              "      <td>4</td>\n",
              "      <td>1921</td>\n",
              "      <td>0.0366</td>\n",
              "      <td>80.954</td>\n",
              "    </tr>\n",
              "    <tr>\n",
              "      <th>1</th>\n",
              "      <td>0.9630</td>\n",
              "      <td>1921</td>\n",
              "      <td>0.732</td>\n",
              "      <td>['Dennis Day']</td>\n",
              "      <td>0.819</td>\n",
              "      <td>180533</td>\n",
              "      <td>0.341</td>\n",
              "      <td>0</td>\n",
              "      <td>7xPhfUan2yNtyFG0cUWkt8</td>\n",
              "      <td>0.000000</td>\n",
              "      <td>7</td>\n",
              "      <td>0.160</td>\n",
              "      <td>-12.441</td>\n",
              "      <td>1</td>\n",
              "      <td>Clancy Lowered the Boom</td>\n",
              "      <td>5</td>\n",
              "      <td>1921</td>\n",
              "      <td>0.4150</td>\n",
              "      <td>60.936</td>\n",
              "    </tr>\n",
              "    <tr>\n",
              "      <th>2</th>\n",
              "      <td>0.0394</td>\n",
              "      <td>1921</td>\n",
              "      <td>0.961</td>\n",
              "      <td>['KHP Kridhamardawa Karaton Ngayogyakarta Hadi...</td>\n",
              "      <td>0.328</td>\n",
              "      <td>500062</td>\n",
              "      <td>0.166</td>\n",
              "      <td>0</td>\n",
              "      <td>1o6I8BglA6ylDMrIELygv1</td>\n",
              "      <td>0.913000</td>\n",
              "      <td>3</td>\n",
              "      <td>0.101</td>\n",
              "      <td>-14.850</td>\n",
              "      <td>1</td>\n",
              "      <td>Gati Bali</td>\n",
              "      <td>5</td>\n",
              "      <td>1921</td>\n",
              "      <td>0.0339</td>\n",
              "      <td>110.339</td>\n",
              "    </tr>\n",
              "    <tr>\n",
              "      <th>3</th>\n",
              "      <td>0.1650</td>\n",
              "      <td>1921</td>\n",
              "      <td>0.967</td>\n",
              "      <td>['Frank Parker']</td>\n",
              "      <td>0.275</td>\n",
              "      <td>210000</td>\n",
              "      <td>0.309</td>\n",
              "      <td>0</td>\n",
              "      <td>3ftBPsC5vPBKxYSee08FDH</td>\n",
              "      <td>0.000028</td>\n",
              "      <td>5</td>\n",
              "      <td>0.381</td>\n",
              "      <td>-9.316</td>\n",
              "      <td>1</td>\n",
              "      <td>Danny Boy</td>\n",
              "      <td>3</td>\n",
              "      <td>1921</td>\n",
              "      <td>0.0354</td>\n",
              "      <td>100.109</td>\n",
              "    </tr>\n",
              "    <tr>\n",
              "      <th>4</th>\n",
              "      <td>0.2530</td>\n",
              "      <td>1921</td>\n",
              "      <td>0.957</td>\n",
              "      <td>['Phil Regan']</td>\n",
              "      <td>0.418</td>\n",
              "      <td>166693</td>\n",
              "      <td>0.193</td>\n",
              "      <td>0</td>\n",
              "      <td>4d6HGyGT8e121BsdKmw9v6</td>\n",
              "      <td>0.000002</td>\n",
              "      <td>3</td>\n",
              "      <td>0.229</td>\n",
              "      <td>-10.096</td>\n",
              "      <td>1</td>\n",
              "      <td>When Irish Eyes Are Smiling</td>\n",
              "      <td>2</td>\n",
              "      <td>1921</td>\n",
              "      <td>0.0380</td>\n",
              "      <td>101.665</td>\n",
              "    </tr>\n",
              "  </tbody>\n",
              "</table>\n",
              "</div>"
            ],
            "text/plain": [
              "   valence  year  acousticness  ... release_date  speechiness    tempo\n",
              "0   0.0594  1921         0.982  ...         1921       0.0366   80.954\n",
              "1   0.9630  1921         0.732  ...         1921       0.4150   60.936\n",
              "2   0.0394  1921         0.961  ...         1921       0.0339  110.339\n",
              "3   0.1650  1921         0.967  ...         1921       0.0354  100.109\n",
              "4   0.2530  1921         0.957  ...         1921       0.0380  101.665\n",
              "\n",
              "[5 rows x 19 columns]"
            ]
          },
          "metadata": {
            "tags": []
          },
          "execution_count": 45
        }
      ]
    },
    {
      "cell_type": "code",
      "metadata": {
        "colab": {
          "base_uri": "https://localhost:8080/",
          "height": 317
        },
        "id": "S3slMvnk_bsB",
        "outputId": "addf0bc1-47bf-49fa-9e82-f6c909959c35"
      },
      "source": [
        "# Remove songs created before 1960\r\n",
        "year_limit=1960\r\n",
        "data_1960_df = data[data['year']>year_limit]\r\n",
        "data_1960_df.describe()"
      ],
      "execution_count": null,
      "outputs": [
        {
          "output_type": "execute_result",
          "data": {
            "text/html": [
              "<div>\n",
              "<style scoped>\n",
              "    .dataframe tbody tr th:only-of-type {\n",
              "        vertical-align: middle;\n",
              "    }\n",
              "\n",
              "    .dataframe tbody tr th {\n",
              "        vertical-align: top;\n",
              "    }\n",
              "\n",
              "    .dataframe thead th {\n",
              "        text-align: right;\n",
              "    }\n",
              "</style>\n",
              "<table border=\"1\" class=\"dataframe\">\n",
              "  <thead>\n",
              "    <tr style=\"text-align: right;\">\n",
              "      <th></th>\n",
              "      <th>valence</th>\n",
              "      <th>year</th>\n",
              "      <th>acousticness</th>\n",
              "      <th>danceability</th>\n",
              "      <th>duration_ms</th>\n",
              "      <th>energy</th>\n",
              "      <th>explicit</th>\n",
              "      <th>instrumentalness</th>\n",
              "      <th>key</th>\n",
              "      <th>liveness</th>\n",
              "      <th>loudness</th>\n",
              "      <th>mode</th>\n",
              "      <th>popularity</th>\n",
              "      <th>speechiness</th>\n",
              "      <th>tempo</th>\n",
              "    </tr>\n",
              "  </thead>\n",
              "  <tbody>\n",
              "    <tr>\n",
              "      <th>count</th>\n",
              "      <td>118900.000000</td>\n",
              "      <td>118900.000000</td>\n",
              "      <td>118900.000000</td>\n",
              "      <td>118900.000000</td>\n",
              "      <td>1.189000e+05</td>\n",
              "      <td>118900.000000</td>\n",
              "      <td>118900.000000</td>\n",
              "      <td>118900.000000</td>\n",
              "      <td>118900.000000</td>\n",
              "      <td>118900.000000</td>\n",
              "      <td>118900.000000</td>\n",
              "      <td>118900.000000</td>\n",
              "      <td>118900.000000</td>\n",
              "      <td>118900.000000</td>\n",
              "      <td>118900.000000</td>\n",
              "    </tr>\n",
              "    <tr>\n",
              "      <th>mean</th>\n",
              "      <td>0.538535</td>\n",
              "      <td>1990.490320</td>\n",
              "      <td>0.351550</td>\n",
              "      <td>0.554089</td>\n",
              "      <td>2.386142e+05</td>\n",
              "      <td>0.573050</td>\n",
              "      <td>0.100168</td>\n",
              "      <td>0.110133</td>\n",
              "      <td>5.214449</td>\n",
              "      <td>0.201429</td>\n",
              "      <td>-9.940915</td>\n",
              "      <td>0.707881</td>\n",
              "      <td>42.517502</td>\n",
              "      <td>0.075705</td>\n",
              "      <td>119.842238</td>\n",
              "    </tr>\n",
              "    <tr>\n",
              "      <th>std</th>\n",
              "      <td>0.260172</td>\n",
              "      <td>17.291647</td>\n",
              "      <td>0.326737</td>\n",
              "      <td>0.174301</td>\n",
              "      <td>1.116213e+05</td>\n",
              "      <td>0.248501</td>\n",
              "      <td>0.300225</td>\n",
              "      <td>0.258921</td>\n",
              "      <td>3.534181</td>\n",
              "      <td>0.178627</td>\n",
              "      <td>5.075899</td>\n",
              "      <td>0.454739</td>\n",
              "      <td>15.320393</td>\n",
              "      <td>0.090851</td>\n",
              "      <td>30.023464</td>\n",
              "    </tr>\n",
              "    <tr>\n",
              "      <th>min</th>\n",
              "      <td>0.000000</td>\n",
              "      <td>1961.000000</td>\n",
              "      <td>0.000000</td>\n",
              "      <td>0.000000</td>\n",
              "      <td>1.470800e+04</td>\n",
              "      <td>0.000000</td>\n",
              "      <td>0.000000</td>\n",
              "      <td>0.000000</td>\n",
              "      <td>0.000000</td>\n",
              "      <td>0.000000</td>\n",
              "      <td>-60.000000</td>\n",
              "      <td>0.000000</td>\n",
              "      <td>0.000000</td>\n",
              "      <td>0.000000</td>\n",
              "      <td>0.000000</td>\n",
              "    </tr>\n",
              "    <tr>\n",
              "      <th>25%</th>\n",
              "      <td>0.331000</td>\n",
              "      <td>1976.000000</td>\n",
              "      <td>0.042700</td>\n",
              "      <td>0.437000</td>\n",
              "      <td>1.809600e+05</td>\n",
              "      <td>0.392000</td>\n",
              "      <td>0.000000</td>\n",
              "      <td>0.000000</td>\n",
              "      <td>2.000000</td>\n",
              "      <td>0.093800</td>\n",
              "      <td>-12.557000</td>\n",
              "      <td>0.000000</td>\n",
              "      <td>31.000000</td>\n",
              "      <td>0.033500</td>\n",
              "      <td>96.555000</td>\n",
              "    </tr>\n",
              "    <tr>\n",
              "      <th>50%</th>\n",
              "      <td>0.546000</td>\n",
              "      <td>1990.000000</td>\n",
              "      <td>0.250000</td>\n",
              "      <td>0.563000</td>\n",
              "      <td>2.223200e+05</td>\n",
              "      <td>0.590000</td>\n",
              "      <td>0.000000</td>\n",
              "      <td>0.000062</td>\n",
              "      <td>5.000000</td>\n",
              "      <td>0.129000</td>\n",
              "      <td>-9.010000</td>\n",
              "      <td>1.000000</td>\n",
              "      <td>42.000000</td>\n",
              "      <td>0.043100</td>\n",
              "      <td>117.855500</td>\n",
              "    </tr>\n",
              "    <tr>\n",
              "      <th>75%</th>\n",
              "      <td>0.756000</td>\n",
              "      <td>2005.000000</td>\n",
              "      <td>0.640000</td>\n",
              "      <td>0.680000</td>\n",
              "      <td>2.716670e+05</td>\n",
              "      <td>0.777000</td>\n",
              "      <td>0.000000</td>\n",
              "      <td>0.014500</td>\n",
              "      <td>8.000000</td>\n",
              "      <td>0.254000</td>\n",
              "      <td>-6.260000</td>\n",
              "      <td>1.000000</td>\n",
              "      <td>53.000000</td>\n",
              "      <td>0.070600</td>\n",
              "      <td>138.513250</td>\n",
              "    </tr>\n",
              "    <tr>\n",
              "      <th>max</th>\n",
              "      <td>1.000000</td>\n",
              "      <td>2020.000000</td>\n",
              "      <td>0.996000</td>\n",
              "      <td>0.988000</td>\n",
              "      <td>5.403500e+06</td>\n",
              "      <td>1.000000</td>\n",
              "      <td>1.000000</td>\n",
              "      <td>1.000000</td>\n",
              "      <td>11.000000</td>\n",
              "      <td>1.000000</td>\n",
              "      <td>3.744000</td>\n",
              "      <td>1.000000</td>\n",
              "      <td>100.000000</td>\n",
              "      <td>0.964000</td>\n",
              "      <td>243.507000</td>\n",
              "    </tr>\n",
              "  </tbody>\n",
              "</table>\n",
              "</div>"
            ],
            "text/plain": [
              "             valence           year  ...    speechiness          tempo\n",
              "count  118900.000000  118900.000000  ...  118900.000000  118900.000000\n",
              "mean        0.538535    1990.490320  ...       0.075705     119.842238\n",
              "std         0.260172      17.291647  ...       0.090851      30.023464\n",
              "min         0.000000    1961.000000  ...       0.000000       0.000000\n",
              "25%         0.331000    1976.000000  ...       0.033500      96.555000\n",
              "50%         0.546000    1990.000000  ...       0.043100     117.855500\n",
              "75%         0.756000    2005.000000  ...       0.070600     138.513250\n",
              "max         1.000000    2020.000000  ...       0.964000     243.507000\n",
              "\n",
              "[8 rows x 15 columns]"
            ]
          },
          "metadata": {
            "tags": []
          },
          "execution_count": 46
        }
      ]
    },
    {
      "cell_type": "code",
      "metadata": {
        "id": "m0V0n1dJ_ezr"
      },
      "source": [
        "# Use only essential columns\r\n",
        "cleanData = data_1960_df[['valence', 'year', 'acousticness', 'danceability',\r\n",
        "       'duration_ms', 'energy', 'explicit', 'instrumentalness', 'key',\r\n",
        "       'liveness', 'loudness', 'mode', \r\n",
        "       'speechiness', 'tempo', 'popularity']]"
      ],
      "execution_count": null,
      "outputs": []
    },
    {
      "cell_type": "code",
      "metadata": {
        "id": "hV418UD9ADq0"
      },
      "source": [
        "# Split data into X and y\r\n",
        "X = cleanData.iloc[:, 0:14].values\r\n",
        "y = cleanData.iloc[:, 14].values"
      ],
      "execution_count": null,
      "outputs": []
    },
    {
      "cell_type": "code",
      "metadata": {
        "id": "4AN0m6JUAk7L"
      },
      "source": [
        "# Splitting into Train and Test sets\r\n",
        "X_train, X_test, y_train, y_test = train_test_split(X, y, random_state=78)"
      ],
      "execution_count": null,
      "outputs": []
    },
    {
      "cell_type": "code",
      "metadata": {
        "id": "boIh2g7iAsEN"
      },
      "source": [
        "# Fitting Standard Scaller\r\n",
        "scaler = StandardScaler()\r\n",
        "X_scaler = scaler.fit(X_train)"
      ],
      "execution_count": null,
      "outputs": []
    },
    {
      "cell_type": "code",
      "metadata": {
        "id": "i4HFZXrLALCP"
      },
      "source": [
        "# Scaling data\r\n",
        "X_train_scaled = X_scaler.transform(X_train)\r\n",
        "X_test_scaled = X_scaler.transform(X_test)"
      ],
      "execution_count": null,
      "outputs": []
    },
    {
      "cell_type": "markdown",
      "metadata": {
        "id": "tFxnEjhYU_VK"
      },
      "source": [
        "## **Random Forest**"
      ]
    },
    {
      "cell_type": "code",
      "metadata": {
        "id": "T8FrYNwYANLf"
      },
      "source": [
        "# Create a random forest classifier\r\n",
        "rf_model = RandomForestClassifier(n_estimators=100, random_state=78)"
      ],
      "execution_count": null,
      "outputs": []
    },
    {
      "cell_type": "code",
      "metadata": {
        "id": "9leIzENFAPrw"
      },
      "source": [
        "# Fitting the model\r\n",
        "rf_model = rf_model.fit(X_train_scaled, y_train)\r\n"
      ],
      "execution_count": null,
      "outputs": []
    },
    {
      "cell_type": "code",
      "metadata": {
        "id": "nWUtX_RhAZuP"
      },
      "source": [
        "# Making predictions using the testing data\r\n",
        "predictions_rf = rf_model.predict(X_test_scaled)"
      ],
      "execution_count": null,
      "outputs": []
    },
    {
      "cell_type": "code",
      "metadata": {
        "id": "0SKtKmFNBVK_"
      },
      "source": [
        "# Calculating the accuracy score\r\n",
        "acc_score_rf = accuracy_score(y_test, predictions_rf)"
      ],
      "execution_count": null,
      "outputs": []
    },
    {
      "cell_type": "code",
      "metadata": {
        "colab": {
          "base_uri": "https://localhost:8080/"
        },
        "id": "XS5CKRibB-IY",
        "outputId": "91a6c696-4254-4e42-cb9b-6295fc598c01"
      },
      "source": [
        "print(f\"Accuracy Score : {acc_score_rf}\")"
      ],
      "execution_count": null,
      "outputs": [
        {
          "output_type": "stream",
          "text": [
            "Accuracy Score : 0.04827586206896552\n"
          ],
          "name": "stdout"
        }
      ]
    },
    {
      "cell_type": "markdown",
      "metadata": {
        "id": "iNq8B2VqVNEb"
      },
      "source": [
        "## **Decision Trees**"
      ]
    },
    {
      "cell_type": "code",
      "metadata": {
        "id": "6bSLEMrCDjhV"
      },
      "source": [
        "# Creating the decision tree classifier instance\r\n",
        "model = tree.DecisionTreeClassifier()"
      ],
      "execution_count": null,
      "outputs": []
    },
    {
      "cell_type": "code",
      "metadata": {
        "id": "CWo2bGm5Dodt"
      },
      "source": [
        "# Fitting the model\r\n",
        "model = model.fit(X_train_scaled, y_train)"
      ],
      "execution_count": null,
      "outputs": []
    },
    {
      "cell_type": "code",
      "metadata": {
        "id": "Zlo6bevRDprA"
      },
      "source": [
        "# Making predictions using the testing data\r\n",
        "predictions_dt = model.predict(X_test_scaled)"
      ],
      "execution_count": null,
      "outputs": []
    },
    {
      "cell_type": "code",
      "metadata": {
        "id": "mOrjp8F0Dr45"
      },
      "source": [
        "# Calculating the accuracy score\r\n",
        "acc_score_dt = accuracy_score(y_test, predictions_dt)"
      ],
      "execution_count": null,
      "outputs": []
    },
    {
      "cell_type": "code",
      "metadata": {
        "colab": {
          "base_uri": "https://localhost:8080/"
        },
        "id": "x2vDD76_DxdE",
        "outputId": "7995afa4-f109-42a2-cfd3-f395fd67ceea"
      },
      "source": [
        "# Displaying results\r\n",
        "print(f\"Accuracy Score : {acc_score_dt}\")"
      ],
      "execution_count": null,
      "outputs": [
        {
          "output_type": "stream",
          "text": [
            "Accuracy Score : 0.03875525651808242\n"
          ],
          "name": "stdout"
        }
      ]
    },
    {
      "cell_type": "markdown",
      "metadata": {
        "id": "uVyArgVHVfDQ"
      },
      "source": [
        "## **Gradient Boosting**"
      ]
    },
    {
      "cell_type": "code",
      "metadata": {
        "colab": {
          "base_uri": "https://localhost:8080/"
        },
        "id": "3wHQgv7uD8m-",
        "outputId": "23cecbe1-8b34-4222-e7f8-063bbc1e8f93"
      },
      "source": [
        "# Create Gradient Boosting Classifier\r\n",
        "\r\n",
        "classifier = GradientBoostingClassifier(n_estimators=20,\r\n",
        "                                            learning_rate=0.5,\r\n",
        "                                            max_features=5,\r\n",
        "                                            max_depth=3,\r\n",
        "                                            random_state=0)\r\n",
        "classifier.fit(X_train_scaled, y_train.ravel())\r\n"
      ],
      "execution_count": null,
      "outputs": [
        {
          "output_type": "execute_result",
          "data": {
            "text/plain": [
              "GradientBoostingClassifier(ccp_alpha=0.0, criterion='friedman_mse', init=None,\n",
              "                           learning_rate=0.5, loss='deviance', max_depth=3,\n",
              "                           max_features=5, max_leaf_nodes=None,\n",
              "                           min_impurity_decrease=0.0, min_impurity_split=None,\n",
              "                           min_samples_leaf=1, min_samples_split=2,\n",
              "                           min_weight_fraction_leaf=0.0, n_estimators=20,\n",
              "                           n_iter_no_change=None, presort='deprecated',\n",
              "                           random_state=0, subsample=1.0, tol=0.0001,\n",
              "                           validation_fraction=0.1, verbose=0,\n",
              "                           warm_start=False)"
            ]
          },
          "metadata": {
            "tags": []
          },
          "execution_count": 64
        }
      ]
    },
    {
      "cell_type": "code",
      "metadata": {
        "id": "CeZvWaIkJehS"
      },
      "source": [
        "# Score the model\r\n",
        "acc_score_gbc = classifier.score(\r\n",
        "        X_test_scaled,\r\n",
        "        y_test)"
      ],
      "execution_count": null,
      "outputs": []
    },
    {
      "cell_type": "markdown",
      "metadata": {
        "id": "Bo80qxEdVn6l"
      },
      "source": [
        "## **Deep Learning Neural Networks**"
      ]
    },
    {
      "cell_type": "code",
      "metadata": {
        "id": "Im2SIol_PJ-q"
      },
      "source": [
        "nn = Sequential()\r\n",
        "\r\n",
        "# Hidden layer\r\n",
        "nn.add(Dense(units=64, input_dim=14, activation=\"relu\"))\r\n",
        "\r\n",
        "# Second hidden layer\r\n",
        "nn.add(Dense(units=32, activation=\"relu\"))\r\n",
        "\r\n",
        "# third hidden layer\r\n",
        "nn.add(Dense(units=16, activation=\"relu\"))\r\n",
        "\r\n",
        "# fouth hidden layer\r\n",
        "nn.add(Dense(units=8, activation=\"relu\"))\r\n",
        "\r\n",
        "# Output layer\r\n",
        "nn.add(Dense(units=1, activation=\"linear\"))"
      ],
      "execution_count": null,
      "outputs": []
    },
    {
      "cell_type": "code",
      "metadata": {
        "id": "piOagY3IYln-"
      },
      "source": [
        "# Compile the model\r\n",
        "nn.compile(loss=\"mean_squared_error\", optimizer=\"adam\", metrics=[\"mse\"])"
      ],
      "execution_count": null,
      "outputs": []
    },
    {
      "cell_type": "code",
      "metadata": {
        "colab": {
          "base_uri": "https://localhost:8080/"
        },
        "id": "BnnnaMECYtTW",
        "outputId": "4bcb3ce1-f819-4db0-a038-b1bc39b806ed"
      },
      "source": [
        "# Fit the model\r\n",
        "model_1 = nn.fit(X_train_scaled, y_train, validation_split=0.3, epochs=10)"
      ],
      "execution_count": null,
      "outputs": [
        {
          "output_type": "stream",
          "text": [
            "Epoch 1/10\n",
            "1951/1951 [==============================] - 4s 2ms/step - loss: 399.0581 - mse: 399.0581 - val_loss: 126.8244 - val_mse: 126.8244\n",
            "Epoch 2/10\n",
            "1951/1951 [==============================] - 3s 2ms/step - loss: 123.1197 - mse: 123.1197 - val_loss: 126.5650 - val_mse: 126.5650\n",
            "Epoch 3/10\n",
            "1951/1951 [==============================] - 3s 2ms/step - loss: 122.9959 - mse: 122.9959 - val_loss: 122.6922 - val_mse: 122.6922\n",
            "Epoch 4/10\n",
            "1951/1951 [==============================] - 3s 2ms/step - loss: 122.1385 - mse: 122.1385 - val_loss: 122.2884 - val_mse: 122.2884\n",
            "Epoch 5/10\n",
            "1951/1951 [==============================] - 3s 2ms/step - loss: 119.5500 - mse: 119.5500 - val_loss: 120.5708 - val_mse: 120.5708\n",
            "Epoch 6/10\n",
            "1951/1951 [==============================] - 3s 2ms/step - loss: 118.4942 - mse: 118.4942 - val_loss: 118.5677 - val_mse: 118.5677\n",
            "Epoch 7/10\n",
            "1951/1951 [==============================] - 3s 2ms/step - loss: 115.9087 - mse: 115.9087 - val_loss: 118.5211 - val_mse: 118.5211\n",
            "Epoch 8/10\n",
            "1951/1951 [==============================] - 3s 2ms/step - loss: 114.4170 - mse: 114.4170 - val_loss: 118.3046 - val_mse: 118.3046\n",
            "Epoch 9/10\n",
            "1951/1951 [==============================] - 3s 2ms/step - loss: 115.7895 - mse: 115.7895 - val_loss: 119.0078 - val_mse: 119.0078\n",
            "Epoch 10/10\n",
            "1951/1951 [==============================] - 3s 2ms/step - loss: 115.5707 - mse: 115.5707 - val_loss: 116.8381 - val_mse: 116.8381\n"
          ],
          "name": "stdout"
        }
      ]
    },
    {
      "cell_type": "code",
      "metadata": {
        "id": "4al0hn-OYy_X"
      },
      "source": [
        "predictions_deep = nn.predict(X_test_scaled)"
      ],
      "execution_count": null,
      "outputs": []
    },
    {
      "cell_type": "code",
      "metadata": {
        "id": "PQUQhSr8aL8Y"
      },
      "source": [
        "predictions_deep = predictions_deep.astype(int)"
      ],
      "execution_count": null,
      "outputs": []
    },
    {
      "cell_type": "code",
      "metadata": {
        "id": "rI45MJUbZhg3"
      },
      "source": [
        "acc_score_deep = accuracy_score(y_test, predictions_deep)"
      ],
      "execution_count": null,
      "outputs": []
    },
    {
      "cell_type": "code",
      "metadata": {
        "colab": {
          "base_uri": "https://localhost:8080/"
        },
        "id": "lAky-JJSaJ3W",
        "outputId": "087709f2-e676-4bd9-e577-a702f62ea9c1"
      },
      "source": [
        "acc_score_deep"
      ],
      "execution_count": null,
      "outputs": [
        {
          "output_type": "execute_result",
          "data": {
            "text/plain": [
              "0.04063919259882254"
            ]
          },
          "metadata": {
            "tags": []
          },
          "execution_count": 75
        }
      ]
    },
    {
      "cell_type": "markdown",
      "metadata": {
        "id": "ZE6iUfaSV8RE"
      },
      "source": [
        "## **Compare Models**"
      ]
    },
    {
      "cell_type": "code",
      "metadata": {
        "colab": {
          "base_uri": "https://localhost:8080/"
        },
        "id": "nP5BKGs5abO1",
        "outputId": "bfb9b5a7-3758-4c7b-a78a-83d56001e849"
      },
      "source": [
        "#Model Accuracy Score\r\n",
        "print(f\"Accuracy Score for Deeplearning Model: {acc_score_deep}\")\r\n",
        "print(f\"Accuracy Score for Gradient Boosting Model: {acc_score_gbc}\")\r\n",
        "print(f\"Accuracy Score for Decision Tree Model: {acc_score_dt}\")\r\n",
        "print(f\"Accuracy Score for Random Forest Model: {acc_score_rf}\")"
      ],
      "execution_count": null,
      "outputs": [
        {
          "output_type": "stream",
          "text": [
            "Accuracy Score for Deeplearning Model: 0.04063919259882254\n",
            "Accuracy Score for Gradient Boosting Model: 0.008847771236333053\n",
            "Accuracy Score for Decision Tree Model: 0.03875525651808242\n",
            "Accuracy Score for Random Forest Model: 0.04827586206896552\n"
          ],
          "name": "stdout"
        }
      ]
    },
    {
      "cell_type": "code",
      "metadata": {
        "id": "FT-bXOk3cL0F"
      },
      "source": [
        ""
      ],
      "execution_count": null,
      "outputs": []
    }
  ]
}