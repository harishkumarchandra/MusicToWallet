{
  "nbformat": 4,
  "nbformat_minor": 0,
  "metadata": {
    "colab": {
      "name": "Project2Colab.ipynb",
      "provenance": [],
      "collapsed_sections": []
    },
    "kernelspec": {
      "name": "python3",
      "display_name": "Python 3"
    }
  },
  "cells": [
    {
      "cell_type": "markdown",
      "metadata": {
        "id": "cBmtG3VAj3TS"
      },
      "source": [
        "# **Import Library**"
      ]
    },
    {
      "cell_type": "code",
      "metadata": {
        "id": "DzDaUogbv-GM"
      },
      "source": [
        "# Initial imports\n",
        "import pandas as pd\n",
        "from pathlib import Path\n",
        "from sklearn.preprocessing import StandardScaler\n",
        "from tensorflow.keras.models import Sequential\n",
        "from tensorflow.keras.layers import Dense\n",
        "import matplotlib.pyplot as plt"
      ],
      "execution_count": null,
      "outputs": []
    },
    {
      "cell_type": "markdown",
      "metadata": {
        "id": "Ilkk5zp1kJfE"
      },
      "source": [
        "## **Data Preparation**"
      ]
    },
    {
      "cell_type": "code",
      "metadata": {
        "colab": {
          "base_uri": "https://localhost:8080/",
          "height": 496
        },
        "id": "grpmwNp3xnQQ",
        "outputId": "2a3ef0d5-410f-49fd-b4c3-4e5901ade99b"
      },
      "source": [
        "# Load the data into a DataFrame\n",
        "file_path = Path(\"data.csv\")\n",
        "data = pd.read_csv(file_path)\n",
        "data.head()\n"
      ],
      "execution_count": null,
      "outputs": [
        {
          "output_type": "execute_result",
          "data": {
            "text/html": [
              "<div>\n",
              "<style scoped>\n",
              "    .dataframe tbody tr th:only-of-type {\n",
              "        vertical-align: middle;\n",
              "    }\n",
              "\n",
              "    .dataframe tbody tr th {\n",
              "        vertical-align: top;\n",
              "    }\n",
              "\n",
              "    .dataframe thead th {\n",
              "        text-align: right;\n",
              "    }\n",
              "</style>\n",
              "<table border=\"1\" class=\"dataframe\">\n",
              "  <thead>\n",
              "    <tr style=\"text-align: right;\">\n",
              "      <th></th>\n",
              "      <th>valence</th>\n",
              "      <th>year</th>\n",
              "      <th>acousticness</th>\n",
              "      <th>artists</th>\n",
              "      <th>danceability</th>\n",
              "      <th>duration_ms</th>\n",
              "      <th>energy</th>\n",
              "      <th>explicit</th>\n",
              "      <th>id</th>\n",
              "      <th>instrumentalness</th>\n",
              "      <th>key</th>\n",
              "      <th>liveness</th>\n",
              "      <th>loudness</th>\n",
              "      <th>mode</th>\n",
              "      <th>name</th>\n",
              "      <th>popularity</th>\n",
              "      <th>release_date</th>\n",
              "      <th>speechiness</th>\n",
              "      <th>tempo</th>\n",
              "    </tr>\n",
              "  </thead>\n",
              "  <tbody>\n",
              "    <tr>\n",
              "      <th>0</th>\n",
              "      <td>0.0594</td>\n",
              "      <td>1921</td>\n",
              "      <td>0.982</td>\n",
              "      <td>['Sergei Rachmaninoff', 'James Levine', 'Berli...</td>\n",
              "      <td>0.279</td>\n",
              "      <td>831667</td>\n",
              "      <td>0.211</td>\n",
              "      <td>0</td>\n",
              "      <td>4BJqT0PrAfrxzMOxytFOIz</td>\n",
              "      <td>0.878000</td>\n",
              "      <td>10</td>\n",
              "      <td>0.665</td>\n",
              "      <td>-20.096</td>\n",
              "      <td>1</td>\n",
              "      <td>Piano Concerto No. 3 in D Minor, Op. 30: III. ...</td>\n",
              "      <td>4</td>\n",
              "      <td>1921</td>\n",
              "      <td>0.0366</td>\n",
              "      <td>80.954</td>\n",
              "    </tr>\n",
              "    <tr>\n",
              "      <th>1</th>\n",
              "      <td>0.9630</td>\n",
              "      <td>1921</td>\n",
              "      <td>0.732</td>\n",
              "      <td>['Dennis Day']</td>\n",
              "      <td>0.819</td>\n",
              "      <td>180533</td>\n",
              "      <td>0.341</td>\n",
              "      <td>0</td>\n",
              "      <td>7xPhfUan2yNtyFG0cUWkt8</td>\n",
              "      <td>0.000000</td>\n",
              "      <td>7</td>\n",
              "      <td>0.160</td>\n",
              "      <td>-12.441</td>\n",
              "      <td>1</td>\n",
              "      <td>Clancy Lowered the Boom</td>\n",
              "      <td>5</td>\n",
              "      <td>1921</td>\n",
              "      <td>0.4150</td>\n",
              "      <td>60.936</td>\n",
              "    </tr>\n",
              "    <tr>\n",
              "      <th>2</th>\n",
              "      <td>0.0394</td>\n",
              "      <td>1921</td>\n",
              "      <td>0.961</td>\n",
              "      <td>['KHP Kridhamardawa Karaton Ngayogyakarta Hadi...</td>\n",
              "      <td>0.328</td>\n",
              "      <td>500062</td>\n",
              "      <td>0.166</td>\n",
              "      <td>0</td>\n",
              "      <td>1o6I8BglA6ylDMrIELygv1</td>\n",
              "      <td>0.913000</td>\n",
              "      <td>3</td>\n",
              "      <td>0.101</td>\n",
              "      <td>-14.850</td>\n",
              "      <td>1</td>\n",
              "      <td>Gati Bali</td>\n",
              "      <td>5</td>\n",
              "      <td>1921</td>\n",
              "      <td>0.0339</td>\n",
              "      <td>110.339</td>\n",
              "    </tr>\n",
              "    <tr>\n",
              "      <th>3</th>\n",
              "      <td>0.1650</td>\n",
              "      <td>1921</td>\n",
              "      <td>0.967</td>\n",
              "      <td>['Frank Parker']</td>\n",
              "      <td>0.275</td>\n",
              "      <td>210000</td>\n",
              "      <td>0.309</td>\n",
              "      <td>0</td>\n",
              "      <td>3ftBPsC5vPBKxYSee08FDH</td>\n",
              "      <td>0.000028</td>\n",
              "      <td>5</td>\n",
              "      <td>0.381</td>\n",
              "      <td>-9.316</td>\n",
              "      <td>1</td>\n",
              "      <td>Danny Boy</td>\n",
              "      <td>3</td>\n",
              "      <td>1921</td>\n",
              "      <td>0.0354</td>\n",
              "      <td>100.109</td>\n",
              "    </tr>\n",
              "    <tr>\n",
              "      <th>4</th>\n",
              "      <td>0.2530</td>\n",
              "      <td>1921</td>\n",
              "      <td>0.957</td>\n",
              "      <td>['Phil Regan']</td>\n",
              "      <td>0.418</td>\n",
              "      <td>166693</td>\n",
              "      <td>0.193</td>\n",
              "      <td>0</td>\n",
              "      <td>4d6HGyGT8e121BsdKmw9v6</td>\n",
              "      <td>0.000002</td>\n",
              "      <td>3</td>\n",
              "      <td>0.229</td>\n",
              "      <td>-10.096</td>\n",
              "      <td>1</td>\n",
              "      <td>When Irish Eyes Are Smiling</td>\n",
              "      <td>2</td>\n",
              "      <td>1921</td>\n",
              "      <td>0.0380</td>\n",
              "      <td>101.665</td>\n",
              "    </tr>\n",
              "  </tbody>\n",
              "</table>\n",
              "</div>"
            ],
            "text/plain": [
              "   valence  year  acousticness  ... release_date  speechiness    tempo\n",
              "0   0.0594  1921         0.982  ...         1921       0.0366   80.954\n",
              "1   0.9630  1921         0.732  ...         1921       0.4150   60.936\n",
              "2   0.0394  1921         0.961  ...         1921       0.0339  110.339\n",
              "3   0.1650  1921         0.967  ...         1921       0.0354  100.109\n",
              "4   0.2530  1921         0.957  ...         1921       0.0380  101.665\n",
              "\n",
              "[5 rows x 19 columns]"
            ]
          },
          "metadata": {
            "tags": []
          },
          "execution_count": 168
        }
      ]
    },
    {
      "cell_type": "code",
      "metadata": {
        "colab": {
          "base_uri": "https://localhost:8080/",
          "height": 317
        },
        "id": "M3M55uB21ZKs",
        "outputId": "d1fcaa34-3578-41a1-8afa-d1d00fb00303"
      },
      "source": [
        "#Remove songs created before 1960\r\n",
        "year_limit=1960\r\n",
        "data_1960_df = data[data['year']>year_limit]\r\n",
        "data_1960_df.describe()"
      ],
      "execution_count": null,
      "outputs": [
        {
          "output_type": "execute_result",
          "data": {
            "text/html": [
              "<div>\n",
              "<style scoped>\n",
              "    .dataframe tbody tr th:only-of-type {\n",
              "        vertical-align: middle;\n",
              "    }\n",
              "\n",
              "    .dataframe tbody tr th {\n",
              "        vertical-align: top;\n",
              "    }\n",
              "\n",
              "    .dataframe thead th {\n",
              "        text-align: right;\n",
              "    }\n",
              "</style>\n",
              "<table border=\"1\" class=\"dataframe\">\n",
              "  <thead>\n",
              "    <tr style=\"text-align: right;\">\n",
              "      <th></th>\n",
              "      <th>valence</th>\n",
              "      <th>year</th>\n",
              "      <th>acousticness</th>\n",
              "      <th>danceability</th>\n",
              "      <th>duration_ms</th>\n",
              "      <th>energy</th>\n",
              "      <th>explicit</th>\n",
              "      <th>instrumentalness</th>\n",
              "      <th>key</th>\n",
              "      <th>liveness</th>\n",
              "      <th>loudness</th>\n",
              "      <th>mode</th>\n",
              "      <th>popularity</th>\n",
              "      <th>speechiness</th>\n",
              "      <th>tempo</th>\n",
              "    </tr>\n",
              "  </thead>\n",
              "  <tbody>\n",
              "    <tr>\n",
              "      <th>count</th>\n",
              "      <td>118900.000000</td>\n",
              "      <td>118900.000000</td>\n",
              "      <td>118900.000000</td>\n",
              "      <td>118900.000000</td>\n",
              "      <td>1.189000e+05</td>\n",
              "      <td>118900.000000</td>\n",
              "      <td>118900.000000</td>\n",
              "      <td>118900.000000</td>\n",
              "      <td>118900.000000</td>\n",
              "      <td>118900.000000</td>\n",
              "      <td>118900.000000</td>\n",
              "      <td>118900.000000</td>\n",
              "      <td>118900.000000</td>\n",
              "      <td>118900.000000</td>\n",
              "      <td>118900.000000</td>\n",
              "    </tr>\n",
              "    <tr>\n",
              "      <th>mean</th>\n",
              "      <td>0.538535</td>\n",
              "      <td>1990.490320</td>\n",
              "      <td>0.351550</td>\n",
              "      <td>0.554089</td>\n",
              "      <td>2.386142e+05</td>\n",
              "      <td>0.573050</td>\n",
              "      <td>0.100168</td>\n",
              "      <td>0.110133</td>\n",
              "      <td>5.214449</td>\n",
              "      <td>0.201429</td>\n",
              "      <td>-9.940915</td>\n",
              "      <td>0.707881</td>\n",
              "      <td>42.517502</td>\n",
              "      <td>0.075705</td>\n",
              "      <td>119.842238</td>\n",
              "    </tr>\n",
              "    <tr>\n",
              "      <th>std</th>\n",
              "      <td>0.260172</td>\n",
              "      <td>17.291647</td>\n",
              "      <td>0.326737</td>\n",
              "      <td>0.174301</td>\n",
              "      <td>1.116213e+05</td>\n",
              "      <td>0.248501</td>\n",
              "      <td>0.300225</td>\n",
              "      <td>0.258921</td>\n",
              "      <td>3.534181</td>\n",
              "      <td>0.178627</td>\n",
              "      <td>5.075899</td>\n",
              "      <td>0.454739</td>\n",
              "      <td>15.320393</td>\n",
              "      <td>0.090851</td>\n",
              "      <td>30.023464</td>\n",
              "    </tr>\n",
              "    <tr>\n",
              "      <th>min</th>\n",
              "      <td>0.000000</td>\n",
              "      <td>1961.000000</td>\n",
              "      <td>0.000000</td>\n",
              "      <td>0.000000</td>\n",
              "      <td>1.470800e+04</td>\n",
              "      <td>0.000000</td>\n",
              "      <td>0.000000</td>\n",
              "      <td>0.000000</td>\n",
              "      <td>0.000000</td>\n",
              "      <td>0.000000</td>\n",
              "      <td>-60.000000</td>\n",
              "      <td>0.000000</td>\n",
              "      <td>0.000000</td>\n",
              "      <td>0.000000</td>\n",
              "      <td>0.000000</td>\n",
              "    </tr>\n",
              "    <tr>\n",
              "      <th>25%</th>\n",
              "      <td>0.331000</td>\n",
              "      <td>1976.000000</td>\n",
              "      <td>0.042700</td>\n",
              "      <td>0.437000</td>\n",
              "      <td>1.809600e+05</td>\n",
              "      <td>0.392000</td>\n",
              "      <td>0.000000</td>\n",
              "      <td>0.000000</td>\n",
              "      <td>2.000000</td>\n",
              "      <td>0.093800</td>\n",
              "      <td>-12.557000</td>\n",
              "      <td>0.000000</td>\n",
              "      <td>31.000000</td>\n",
              "      <td>0.033500</td>\n",
              "      <td>96.555000</td>\n",
              "    </tr>\n",
              "    <tr>\n",
              "      <th>50%</th>\n",
              "      <td>0.546000</td>\n",
              "      <td>1990.000000</td>\n",
              "      <td>0.250000</td>\n",
              "      <td>0.563000</td>\n",
              "      <td>2.223200e+05</td>\n",
              "      <td>0.590000</td>\n",
              "      <td>0.000000</td>\n",
              "      <td>0.000062</td>\n",
              "      <td>5.000000</td>\n",
              "      <td>0.129000</td>\n",
              "      <td>-9.010000</td>\n",
              "      <td>1.000000</td>\n",
              "      <td>42.000000</td>\n",
              "      <td>0.043100</td>\n",
              "      <td>117.855500</td>\n",
              "    </tr>\n",
              "    <tr>\n",
              "      <th>75%</th>\n",
              "      <td>0.756000</td>\n",
              "      <td>2005.000000</td>\n",
              "      <td>0.640000</td>\n",
              "      <td>0.680000</td>\n",
              "      <td>2.716670e+05</td>\n",
              "      <td>0.777000</td>\n",
              "      <td>0.000000</td>\n",
              "      <td>0.014500</td>\n",
              "      <td>8.000000</td>\n",
              "      <td>0.254000</td>\n",
              "      <td>-6.260000</td>\n",
              "      <td>1.000000</td>\n",
              "      <td>53.000000</td>\n",
              "      <td>0.070600</td>\n",
              "      <td>138.513250</td>\n",
              "    </tr>\n",
              "    <tr>\n",
              "      <th>max</th>\n",
              "      <td>1.000000</td>\n",
              "      <td>2020.000000</td>\n",
              "      <td>0.996000</td>\n",
              "      <td>0.988000</td>\n",
              "      <td>5.403500e+06</td>\n",
              "      <td>1.000000</td>\n",
              "      <td>1.000000</td>\n",
              "      <td>1.000000</td>\n",
              "      <td>11.000000</td>\n",
              "      <td>1.000000</td>\n",
              "      <td>3.744000</td>\n",
              "      <td>1.000000</td>\n",
              "      <td>100.000000</td>\n",
              "      <td>0.964000</td>\n",
              "      <td>243.507000</td>\n",
              "    </tr>\n",
              "  </tbody>\n",
              "</table>\n",
              "</div>"
            ],
            "text/plain": [
              "             valence           year  ...    speechiness          tempo\n",
              "count  118900.000000  118900.000000  ...  118900.000000  118900.000000\n",
              "mean        0.538535    1990.490320  ...       0.075705     119.842238\n",
              "std         0.260172      17.291647  ...       0.090851      30.023464\n",
              "min         0.000000    1961.000000  ...       0.000000       0.000000\n",
              "25%         0.331000    1976.000000  ...       0.033500      96.555000\n",
              "50%         0.546000    1990.000000  ...       0.043100     117.855500\n",
              "75%         0.756000    2005.000000  ...       0.070600     138.513250\n",
              "max         1.000000    2020.000000  ...       0.964000     243.507000\n",
              "\n",
              "[8 rows x 15 columns]"
            ]
          },
          "metadata": {
            "tags": []
          },
          "execution_count": 169
        }
      ]
    },
    {
      "cell_type": "code",
      "metadata": {
        "colab": {
          "base_uri": "https://localhost:8080/"
        },
        "id": "nbnSd1os3GnN",
        "outputId": "0f6269e5-a678-4b58-fd51-44916f872888"
      },
      "source": [
        "#Show avaliable columns\r\n",
        "data_1960_df.columns"
      ],
      "execution_count": null,
      "outputs": [
        {
          "output_type": "execute_result",
          "data": {
            "text/plain": [
              "Index(['valence', 'year', 'acousticness', 'artists', 'danceability',\n",
              "       'duration_ms', 'energy', 'explicit', 'id', 'instrumentalness', 'key',\n",
              "       'liveness', 'loudness', 'mode', 'name', 'popularity', 'release_date',\n",
              "       'speechiness', 'tempo'],\n",
              "      dtype='object')"
            ]
          },
          "metadata": {
            "tags": []
          },
          "execution_count": 170
        }
      ]
    },
    {
      "cell_type": "code",
      "metadata": {
        "id": "eysKBc6KaAjL"
      },
      "source": [
        "#Use only essential columns\r\n",
        "cleanData = data_1960_df[['valence', 'year', 'acousticness', 'danceability',\r\n",
        "       'duration_ms', 'energy', 'explicit', 'instrumentalness', 'key',\r\n",
        "       'liveness', 'loudness', 'mode', \r\n",
        "       'speechiness', 'tempo', 'popularity']]"
      ],
      "execution_count": null,
      "outputs": []
    },
    {
      "cell_type": "code",
      "metadata": {
        "colab": {
          "base_uri": "https://localhost:8080/",
          "height": 317
        },
        "id": "oX_XhtudaMmu",
        "outputId": "aa251f66-1985-41e9-aea6-ffef4182a4db"
      },
      "source": [
        "#Dataframe Metrics\r\n",
        "cleanData.describe()"
      ],
      "execution_count": null,
      "outputs": [
        {
          "output_type": "execute_result",
          "data": {
            "text/html": [
              "<div>\n",
              "<style scoped>\n",
              "    .dataframe tbody tr th:only-of-type {\n",
              "        vertical-align: middle;\n",
              "    }\n",
              "\n",
              "    .dataframe tbody tr th {\n",
              "        vertical-align: top;\n",
              "    }\n",
              "\n",
              "    .dataframe thead th {\n",
              "        text-align: right;\n",
              "    }\n",
              "</style>\n",
              "<table border=\"1\" class=\"dataframe\">\n",
              "  <thead>\n",
              "    <tr style=\"text-align: right;\">\n",
              "      <th></th>\n",
              "      <th>valence</th>\n",
              "      <th>year</th>\n",
              "      <th>acousticness</th>\n",
              "      <th>danceability</th>\n",
              "      <th>duration_ms</th>\n",
              "      <th>energy</th>\n",
              "      <th>explicit</th>\n",
              "      <th>instrumentalness</th>\n",
              "      <th>key</th>\n",
              "      <th>liveness</th>\n",
              "      <th>loudness</th>\n",
              "      <th>mode</th>\n",
              "      <th>speechiness</th>\n",
              "      <th>tempo</th>\n",
              "      <th>popularity</th>\n",
              "    </tr>\n",
              "  </thead>\n",
              "  <tbody>\n",
              "    <tr>\n",
              "      <th>count</th>\n",
              "      <td>118900.000000</td>\n",
              "      <td>118900.000000</td>\n",
              "      <td>118900.000000</td>\n",
              "      <td>118900.000000</td>\n",
              "      <td>1.189000e+05</td>\n",
              "      <td>118900.000000</td>\n",
              "      <td>118900.000000</td>\n",
              "      <td>118900.000000</td>\n",
              "      <td>118900.000000</td>\n",
              "      <td>118900.000000</td>\n",
              "      <td>118900.000000</td>\n",
              "      <td>118900.000000</td>\n",
              "      <td>118900.000000</td>\n",
              "      <td>118900.000000</td>\n",
              "      <td>118900.000000</td>\n",
              "    </tr>\n",
              "    <tr>\n",
              "      <th>mean</th>\n",
              "      <td>0.538535</td>\n",
              "      <td>1990.490320</td>\n",
              "      <td>0.351550</td>\n",
              "      <td>0.554089</td>\n",
              "      <td>2.386142e+05</td>\n",
              "      <td>0.573050</td>\n",
              "      <td>0.100168</td>\n",
              "      <td>0.110133</td>\n",
              "      <td>5.214449</td>\n",
              "      <td>0.201429</td>\n",
              "      <td>-9.940915</td>\n",
              "      <td>0.707881</td>\n",
              "      <td>0.075705</td>\n",
              "      <td>119.842238</td>\n",
              "      <td>42.517502</td>\n",
              "    </tr>\n",
              "    <tr>\n",
              "      <th>std</th>\n",
              "      <td>0.260172</td>\n",
              "      <td>17.291647</td>\n",
              "      <td>0.326737</td>\n",
              "      <td>0.174301</td>\n",
              "      <td>1.116213e+05</td>\n",
              "      <td>0.248501</td>\n",
              "      <td>0.300225</td>\n",
              "      <td>0.258921</td>\n",
              "      <td>3.534181</td>\n",
              "      <td>0.178627</td>\n",
              "      <td>5.075899</td>\n",
              "      <td>0.454739</td>\n",
              "      <td>0.090851</td>\n",
              "      <td>30.023464</td>\n",
              "      <td>15.320393</td>\n",
              "    </tr>\n",
              "    <tr>\n",
              "      <th>min</th>\n",
              "      <td>0.000000</td>\n",
              "      <td>1961.000000</td>\n",
              "      <td>0.000000</td>\n",
              "      <td>0.000000</td>\n",
              "      <td>1.470800e+04</td>\n",
              "      <td>0.000000</td>\n",
              "      <td>0.000000</td>\n",
              "      <td>0.000000</td>\n",
              "      <td>0.000000</td>\n",
              "      <td>0.000000</td>\n",
              "      <td>-60.000000</td>\n",
              "      <td>0.000000</td>\n",
              "      <td>0.000000</td>\n",
              "      <td>0.000000</td>\n",
              "      <td>0.000000</td>\n",
              "    </tr>\n",
              "    <tr>\n",
              "      <th>25%</th>\n",
              "      <td>0.331000</td>\n",
              "      <td>1976.000000</td>\n",
              "      <td>0.042700</td>\n",
              "      <td>0.437000</td>\n",
              "      <td>1.809600e+05</td>\n",
              "      <td>0.392000</td>\n",
              "      <td>0.000000</td>\n",
              "      <td>0.000000</td>\n",
              "      <td>2.000000</td>\n",
              "      <td>0.093800</td>\n",
              "      <td>-12.557000</td>\n",
              "      <td>0.000000</td>\n",
              "      <td>0.033500</td>\n",
              "      <td>96.555000</td>\n",
              "      <td>31.000000</td>\n",
              "    </tr>\n",
              "    <tr>\n",
              "      <th>50%</th>\n",
              "      <td>0.546000</td>\n",
              "      <td>1990.000000</td>\n",
              "      <td>0.250000</td>\n",
              "      <td>0.563000</td>\n",
              "      <td>2.223200e+05</td>\n",
              "      <td>0.590000</td>\n",
              "      <td>0.000000</td>\n",
              "      <td>0.000062</td>\n",
              "      <td>5.000000</td>\n",
              "      <td>0.129000</td>\n",
              "      <td>-9.010000</td>\n",
              "      <td>1.000000</td>\n",
              "      <td>0.043100</td>\n",
              "      <td>117.855500</td>\n",
              "      <td>42.000000</td>\n",
              "    </tr>\n",
              "    <tr>\n",
              "      <th>75%</th>\n",
              "      <td>0.756000</td>\n",
              "      <td>2005.000000</td>\n",
              "      <td>0.640000</td>\n",
              "      <td>0.680000</td>\n",
              "      <td>2.716670e+05</td>\n",
              "      <td>0.777000</td>\n",
              "      <td>0.000000</td>\n",
              "      <td>0.014500</td>\n",
              "      <td>8.000000</td>\n",
              "      <td>0.254000</td>\n",
              "      <td>-6.260000</td>\n",
              "      <td>1.000000</td>\n",
              "      <td>0.070600</td>\n",
              "      <td>138.513250</td>\n",
              "      <td>53.000000</td>\n",
              "    </tr>\n",
              "    <tr>\n",
              "      <th>max</th>\n",
              "      <td>1.000000</td>\n",
              "      <td>2020.000000</td>\n",
              "      <td>0.996000</td>\n",
              "      <td>0.988000</td>\n",
              "      <td>5.403500e+06</td>\n",
              "      <td>1.000000</td>\n",
              "      <td>1.000000</td>\n",
              "      <td>1.000000</td>\n",
              "      <td>11.000000</td>\n",
              "      <td>1.000000</td>\n",
              "      <td>3.744000</td>\n",
              "      <td>1.000000</td>\n",
              "      <td>0.964000</td>\n",
              "      <td>243.507000</td>\n",
              "      <td>100.000000</td>\n",
              "    </tr>\n",
              "  </tbody>\n",
              "</table>\n",
              "</div>"
            ],
            "text/plain": [
              "             valence           year  ...          tempo     popularity\n",
              "count  118900.000000  118900.000000  ...  118900.000000  118900.000000\n",
              "mean        0.538535    1990.490320  ...     119.842238      42.517502\n",
              "std         0.260172      17.291647  ...      30.023464      15.320393\n",
              "min         0.000000    1961.000000  ...       0.000000       0.000000\n",
              "25%         0.331000    1976.000000  ...      96.555000      31.000000\n",
              "50%         0.546000    1990.000000  ...     117.855500      42.000000\n",
              "75%         0.756000    2005.000000  ...     138.513250      53.000000\n",
              "max         1.000000    2020.000000  ...     243.507000     100.000000\n",
              "\n",
              "[8 rows x 15 columns]"
            ]
          },
          "metadata": {
            "tags": []
          },
          "execution_count": 172
        }
      ]
    },
    {
      "cell_type": "code",
      "metadata": {
        "id": "pwzCJrIHXyNh",
        "colab": {
          "base_uri": "https://localhost:8080/",
          "height": 204
        },
        "outputId": "eead7a97-6588-4743-a8c2-2a5e1b313075"
      },
      "source": [
        "#Dataframe head\r\n",
        "cleanData.head()"
      ],
      "execution_count": null,
      "outputs": [
        {
          "output_type": "execute_result",
          "data": {
            "text/html": [
              "<div>\n",
              "<style scoped>\n",
              "    .dataframe tbody tr th:only-of-type {\n",
              "        vertical-align: middle;\n",
              "    }\n",
              "\n",
              "    .dataframe tbody tr th {\n",
              "        vertical-align: top;\n",
              "    }\n",
              "\n",
              "    .dataframe thead th {\n",
              "        text-align: right;\n",
              "    }\n",
              "</style>\n",
              "<table border=\"1\" class=\"dataframe\">\n",
              "  <thead>\n",
              "    <tr style=\"text-align: right;\">\n",
              "      <th></th>\n",
              "      <th>valence</th>\n",
              "      <th>year</th>\n",
              "      <th>acousticness</th>\n",
              "      <th>danceability</th>\n",
              "      <th>duration_ms</th>\n",
              "      <th>energy</th>\n",
              "      <th>explicit</th>\n",
              "      <th>instrumentalness</th>\n",
              "      <th>key</th>\n",
              "      <th>liveness</th>\n",
              "      <th>loudness</th>\n",
              "      <th>mode</th>\n",
              "      <th>speechiness</th>\n",
              "      <th>tempo</th>\n",
              "      <th>popularity</th>\n",
              "    </tr>\n",
              "  </thead>\n",
              "  <tbody>\n",
              "    <tr>\n",
              "      <th>7806</th>\n",
              "      <td>0.343</td>\n",
              "      <td>1961</td>\n",
              "      <td>0.941</td>\n",
              "      <td>0.396</td>\n",
              "      <td>182360</td>\n",
              "      <td>0.293</td>\n",
              "      <td>0</td>\n",
              "      <td>0.000196</td>\n",
              "      <td>2</td>\n",
              "      <td>0.105</td>\n",
              "      <td>-14.062</td>\n",
              "      <td>1</td>\n",
              "      <td>0.0275</td>\n",
              "      <td>100.307</td>\n",
              "      <td>78</td>\n",
              "    </tr>\n",
              "    <tr>\n",
              "      <th>7807</th>\n",
              "      <td>0.598</td>\n",
              "      <td>1961</td>\n",
              "      <td>0.451</td>\n",
              "      <td>0.364</td>\n",
              "      <td>171600</td>\n",
              "      <td>0.607</td>\n",
              "      <td>0</td>\n",
              "      <td>0.000000</td>\n",
              "      <td>2</td>\n",
              "      <td>0.251</td>\n",
              "      <td>-9.791</td>\n",
              "      <td>1</td>\n",
              "      <td>0.1250</td>\n",
              "      <td>79.987</td>\n",
              "      <td>63</td>\n",
              "    </tr>\n",
              "    <tr>\n",
              "      <th>7808</th>\n",
              "      <td>0.356</td>\n",
              "      <td>1961</td>\n",
              "      <td>0.931</td>\n",
              "      <td>0.471</td>\n",
              "      <td>164573</td>\n",
              "      <td>0.021</td>\n",
              "      <td>0</td>\n",
              "      <td>0.000001</td>\n",
              "      <td>10</td>\n",
              "      <td>0.103</td>\n",
              "      <td>-24.385</td>\n",
              "      <td>1</td>\n",
              "      <td>0.0366</td>\n",
              "      <td>107.765</td>\n",
              "      <td>66</td>\n",
              "    </tr>\n",
              "    <tr>\n",
              "      <th>7809</th>\n",
              "      <td>0.967</td>\n",
              "      <td>1961</td>\n",
              "      <td>0.729</td>\n",
              "      <td>0.785</td>\n",
              "      <td>148040</td>\n",
              "      <td>0.776</td>\n",
              "      <td>0</td>\n",
              "      <td>0.000000</td>\n",
              "      <td>2</td>\n",
              "      <td>0.181</td>\n",
              "      <td>-5.259</td>\n",
              "      <td>1</td>\n",
              "      <td>0.0312</td>\n",
              "      <td>121.505</td>\n",
              "      <td>67</td>\n",
              "    </tr>\n",
              "    <tr>\n",
              "      <th>7810</th>\n",
              "      <td>0.800</td>\n",
              "      <td>1961</td>\n",
              "      <td>0.768</td>\n",
              "      <td>0.594</td>\n",
              "      <td>221704</td>\n",
              "      <td>0.889</td>\n",
              "      <td>0</td>\n",
              "      <td>0.000000</td>\n",
              "      <td>5</td>\n",
              "      <td>0.124</td>\n",
              "      <td>-7.775</td>\n",
              "      <td>1</td>\n",
              "      <td>0.2460</td>\n",
              "      <td>116.187</td>\n",
              "      <td>63</td>\n",
              "    </tr>\n",
              "  </tbody>\n",
              "</table>\n",
              "</div>"
            ],
            "text/plain": [
              "      valence  year  acousticness  ...  speechiness    tempo  popularity\n",
              "7806    0.343  1961         0.941  ...       0.0275  100.307          78\n",
              "7807    0.598  1961         0.451  ...       0.1250   79.987          63\n",
              "7808    0.356  1961         0.931  ...       0.0366  107.765          66\n",
              "7809    0.967  1961         0.729  ...       0.0312  121.505          67\n",
              "7810    0.800  1961         0.768  ...       0.2460  116.187          63\n",
              "\n",
              "[5 rows x 15 columns]"
            ]
          },
          "metadata": {
            "tags": []
          },
          "execution_count": 173
        }
      ]
    },
    {
      "cell_type": "code",
      "metadata": {
        "colab": {
          "base_uri": "https://localhost:8080/",
          "height": 204
        },
        "id": "q3b8pI4EwwgP",
        "outputId": "2a2b22ea-be6d-4b3f-9a0d-430cd3327599"
      },
      "source": [
        "#Dataframe tail\r\n",
        "cleanData.tail()"
      ],
      "execution_count": null,
      "outputs": [
        {
          "output_type": "execute_result",
          "data": {
            "text/html": [
              "<div>\n",
              "<style scoped>\n",
              "    .dataframe tbody tr th:only-of-type {\n",
              "        vertical-align: middle;\n",
              "    }\n",
              "\n",
              "    .dataframe tbody tr th {\n",
              "        vertical-align: top;\n",
              "    }\n",
              "\n",
              "    .dataframe thead th {\n",
              "        text-align: right;\n",
              "    }\n",
              "</style>\n",
              "<table border=\"1\" class=\"dataframe\">\n",
              "  <thead>\n",
              "    <tr style=\"text-align: right;\">\n",
              "      <th></th>\n",
              "      <th>valence</th>\n",
              "      <th>year</th>\n",
              "      <th>acousticness</th>\n",
              "      <th>danceability</th>\n",
              "      <th>duration_ms</th>\n",
              "      <th>energy</th>\n",
              "      <th>explicit</th>\n",
              "      <th>instrumentalness</th>\n",
              "      <th>key</th>\n",
              "      <th>liveness</th>\n",
              "      <th>loudness</th>\n",
              "      <th>mode</th>\n",
              "      <th>speechiness</th>\n",
              "      <th>tempo</th>\n",
              "      <th>popularity</th>\n",
              "    </tr>\n",
              "  </thead>\n",
              "  <tbody>\n",
              "    <tr>\n",
              "      <th>170648</th>\n",
              "      <td>0.608</td>\n",
              "      <td>2020</td>\n",
              "      <td>0.08460</td>\n",
              "      <td>0.786</td>\n",
              "      <td>301714</td>\n",
              "      <td>0.808</td>\n",
              "      <td>0</td>\n",
              "      <td>0.000289</td>\n",
              "      <td>7</td>\n",
              "      <td>0.0822</td>\n",
              "      <td>-3.702</td>\n",
              "      <td>1</td>\n",
              "      <td>0.0881</td>\n",
              "      <td>105.029</td>\n",
              "      <td>72</td>\n",
              "    </tr>\n",
              "    <tr>\n",
              "      <th>170649</th>\n",
              "      <td>0.734</td>\n",
              "      <td>2020</td>\n",
              "      <td>0.20600</td>\n",
              "      <td>0.717</td>\n",
              "      <td>150654</td>\n",
              "      <td>0.753</td>\n",
              "      <td>0</td>\n",
              "      <td>0.000000</td>\n",
              "      <td>7</td>\n",
              "      <td>0.1010</td>\n",
              "      <td>-6.020</td>\n",
              "      <td>1</td>\n",
              "      <td>0.0605</td>\n",
              "      <td>137.936</td>\n",
              "      <td>68</td>\n",
              "    </tr>\n",
              "    <tr>\n",
              "      <th>170650</th>\n",
              "      <td>0.637</td>\n",
              "      <td>2020</td>\n",
              "      <td>0.10100</td>\n",
              "      <td>0.634</td>\n",
              "      <td>211280</td>\n",
              "      <td>0.858</td>\n",
              "      <td>0</td>\n",
              "      <td>0.000009</td>\n",
              "      <td>4</td>\n",
              "      <td>0.2580</td>\n",
              "      <td>-2.226</td>\n",
              "      <td>0</td>\n",
              "      <td>0.0809</td>\n",
              "      <td>91.688</td>\n",
              "      <td>76</td>\n",
              "    </tr>\n",
              "    <tr>\n",
              "      <th>170651</th>\n",
              "      <td>0.195</td>\n",
              "      <td>2020</td>\n",
              "      <td>0.00998</td>\n",
              "      <td>0.671</td>\n",
              "      <td>337147</td>\n",
              "      <td>0.623</td>\n",
              "      <td>1</td>\n",
              "      <td>0.000008</td>\n",
              "      <td>2</td>\n",
              "      <td>0.6430</td>\n",
              "      <td>-7.161</td>\n",
              "      <td>1</td>\n",
              "      <td>0.3080</td>\n",
              "      <td>75.055</td>\n",
              "      <td>70</td>\n",
              "    </tr>\n",
              "    <tr>\n",
              "      <th>170652</th>\n",
              "      <td>0.642</td>\n",
              "      <td>2020</td>\n",
              "      <td>0.13200</td>\n",
              "      <td>0.856</td>\n",
              "      <td>189507</td>\n",
              "      <td>0.721</td>\n",
              "      <td>1</td>\n",
              "      <td>0.004710</td>\n",
              "      <td>7</td>\n",
              "      <td>0.1820</td>\n",
              "      <td>-4.928</td>\n",
              "      <td>1</td>\n",
              "      <td>0.1080</td>\n",
              "      <td>94.991</td>\n",
              "      <td>74</td>\n",
              "    </tr>\n",
              "  </tbody>\n",
              "</table>\n",
              "</div>"
            ],
            "text/plain": [
              "        valence  year  acousticness  ...  speechiness    tempo  popularity\n",
              "170648    0.608  2020       0.08460  ...       0.0881  105.029          72\n",
              "170649    0.734  2020       0.20600  ...       0.0605  137.936          68\n",
              "170650    0.637  2020       0.10100  ...       0.0809   91.688          76\n",
              "170651    0.195  2020       0.00998  ...       0.3080   75.055          70\n",
              "170652    0.642  2020       0.13200  ...       0.1080   94.991          74\n",
              "\n",
              "[5 rows x 15 columns]"
            ]
          },
          "metadata": {
            "tags": []
          },
          "execution_count": 174
        }
      ]
    },
    {
      "cell_type": "code",
      "metadata": {
        "id": "jyfIZOswZ2To"
      },
      "source": [
        "#Split data into X and y\r\n",
        "X = cleanData.iloc[:, 0:14].values\r\n",
        "y = cleanData.iloc[:, 14].values\r\n"
      ],
      "execution_count": null,
      "outputs": []
    },
    {
      "cell_type": "code",
      "metadata": {
        "id": "Faj70AqWxnVM"
      },
      "source": [
        "#Scale X with Standard Scaler\n",
        "scaler = StandardScaler().fit(X)\n",
        "X = scaler.transform(X)"
      ],
      "execution_count": null,
      "outputs": []
    },
    {
      "cell_type": "markdown",
      "metadata": {
        "id": "9SICbd5-llEv"
      },
      "source": [
        "## **Data Processing**"
      ]
    },
    {
      "cell_type": "code",
      "metadata": {
        "id": "tjhnojZsw6zS"
      },
      "source": [
        "#Initalize Nueral Networks\n",
        "nn = Sequential()\n",
        "\n",
        "# Hidden layer\n",
        "nn.add(Dense(units=64, input_dim=14, activation=\"relu\"))\n",
        "\n",
        "# Second hidden layer\n",
        "nn.add(Dense(units=32, activation=\"relu\"))\n",
        "\n",
        "# third hidden layer\n",
        "nn.add(Dense(units=16, activation=\"relu\"))\n",
        "\n",
        "# fouth hidden layer\n",
        "nn.add(Dense(units=8, activation=\"relu\"))\n",
        "\n",
        "# Output layer\n",
        "nn.add(Dense(units=1, activation=\"linear\"))\n"
      ],
      "execution_count": null,
      "outputs": []
    },
    {
      "cell_type": "code",
      "metadata": {
        "id": "6FYIWflj1TTt"
      },
      "source": [
        "# Compile the model\r\n",
        "nn.compile(loss=\"mean_squared_error\", optimizer=\"adam\", metrics=[\"mse\"])"
      ],
      "execution_count": null,
      "outputs": []
    },
    {
      "cell_type": "code",
      "metadata": {
        "colab": {
          "base_uri": "https://localhost:8080/"
        },
        "id": "hglNKi_hYNqP",
        "outputId": "68f82e05-1c36-4aae-f110-e5af715f0ef1"
      },
      "source": [
        "# Fit the model\r\n",
        "model_1 = nn.fit(X, y, validation_split=0.3, epochs=10)"
      ],
      "execution_count": null,
      "outputs": [
        {
          "output_type": "stream",
          "text": [
            "Epoch 1/10\n",
            "2601/2601 [==============================] - 5s 2ms/step - loss: 362.8113 - mse: 362.8113 - val_loss: 202.3634 - val_mse: 202.3634\n",
            "Epoch 2/10\n",
            "2601/2601 [==============================] - 5s 2ms/step - loss: 114.6174 - mse: 114.6174 - val_loss: 174.6127 - val_mse: 174.6127\n",
            "Epoch 3/10\n",
            "2601/2601 [==============================] - 5s 2ms/step - loss: 112.3917 - mse: 112.3917 - val_loss: 215.7990 - val_mse: 215.7990\n",
            "Epoch 4/10\n",
            "2601/2601 [==============================] - 5s 2ms/step - loss: 110.3810 - mse: 110.3810 - val_loss: 181.4983 - val_mse: 181.4983\n",
            "Epoch 5/10\n",
            "2601/2601 [==============================] - 4s 2ms/step - loss: 109.0327 - mse: 109.0327 - val_loss: 170.0242 - val_mse: 170.0242\n",
            "Epoch 6/10\n",
            "2601/2601 [==============================] - 5s 2ms/step - loss: 107.1948 - mse: 107.1948 - val_loss: 153.3239 - val_mse: 153.3239\n",
            "Epoch 7/10\n",
            "2601/2601 [==============================] - 5s 2ms/step - loss: 106.1605 - mse: 106.1605 - val_loss: 183.3183 - val_mse: 183.3183\n",
            "Epoch 8/10\n",
            "2601/2601 [==============================] - 5s 2ms/step - loss: 105.5710 - mse: 105.5710 - val_loss: 199.1688 - val_mse: 199.1688\n",
            "Epoch 9/10\n",
            "2601/2601 [==============================] - 5s 2ms/step - loss: 104.9903 - mse: 104.9903 - val_loss: 173.1709 - val_mse: 173.1709\n",
            "Epoch 10/10\n",
            "2601/2601 [==============================] - 5s 2ms/step - loss: 104.2273 - mse: 104.2273 - val_loss: 160.8221 - val_mse: 160.8221\n"
          ],
          "name": "stdout"
        }
      ]
    },
    {
      "cell_type": "markdown",
      "metadata": {
        "id": "V-Gzc0eWl65N"
      },
      "source": [
        "## **Data Analyze**"
      ]
    },
    {
      "cell_type": "code",
      "metadata": {
        "colab": {
          "base_uri": "https://localhost:8080/",
          "height": 281
        },
        "id": "bWIVR95PfV37",
        "outputId": "9e630144-7ec8-4420-ffb7-76db0422d31a"
      },
      "source": [
        "# Plot the loss function of the training\r\n",
        "plt.plot(model_1.history[\"loss\"])\r\n",
        "plt.title(\"loss_function - Training\")\r\n",
        "plt.show()"
      ],
      "execution_count": null,
      "outputs": [
        {
          "output_type": "display_data",
          "data": {
            "image/png": "[encoded data removed]",
            "text/plain": [
              "<Figure size 432x288 with 1 Axes>"
            ]
          },
          "metadata": {
            "tags": [],
            "needs_background": "light"
          }
        }
      ]
    },
    {
      "cell_type": "code",
      "metadata": {
        "colab": {
          "base_uri": "https://localhost:8080/",
          "height": 281
        },
        "id": "1fMRYMLLgJ19",
        "outputId": "1c360db6-e555-4627-80d3-57607b79faee"
      },
      "source": [
        "# Plot train vs test \r\n",
        "plt.plot(model_1.history[\"loss\"])\r\n",
        "plt.plot(model_1.history[\"val_loss\"])\r\n",
        "plt.title(\"loss_function - Train Vs. Test\")\r\n",
        "plt.legend([\"train\", \"test\"])\r\n",
        "plt.show()"
      ],
      "execution_count": null,
      "outputs": [
        {
          "output_type": "display_data",
          "data": {
            "image/png": "[encoded data removed]",
            "text/plain": [
              "<Figure size 432x288 with 1 Axes>"
            ]
          },
          "metadata": {
            "tags": [],
            "needs_background": "light"
          }
        }
      ]
    },
    {
      "cell_type": "code",
      "metadata": {
        "id": "Pfu0kAJRjMtL"
      },
      "source": [
        "#Dataframe to compare actual vs predition\r\n",
        "df = pd.DataFrame(y,columns=['actual'])"
      ],
      "execution_count": null,
      "outputs": []
    },
    {
      "cell_type": "code",
      "metadata": {
        "id": "rsQKLB-Io0JY"
      },
      "source": [
        "df['predicted'] = nn.predict(X)"
      ],
      "execution_count": null,
      "outputs": []
    },
    {
      "cell_type": "code",
      "metadata": {
        "colab": {
          "base_uri": "https://localhost:8080/",
          "height": 204
        },
        "id": "qsNzveyKpOvk",
        "outputId": "aa80bd30-16a4-4141-e885-f0ddb70c5fa7"
      },
      "source": [
        "df.tail()"
      ],
      "execution_count": null,
      "outputs": [
        {
          "output_type": "execute_result",
          "data": {
            "text/html": [
              "<div>\n",
              "<style scoped>\n",
              "    .dataframe tbody tr th:only-of-type {\n",
              "        vertical-align: middle;\n",
              "    }\n",
              "\n",
              "    .dataframe tbody tr th {\n",
              "        vertical-align: top;\n",
              "    }\n",
              "\n",
              "    .dataframe thead th {\n",
              "        text-align: right;\n",
              "    }\n",
              "</style>\n",
              "<table border=\"1\" class=\"dataframe\">\n",
              "  <thead>\n",
              "    <tr style=\"text-align: right;\">\n",
              "      <th></th>\n",
              "      <th>actual</th>\n",
              "      <th>predicted</th>\n",
              "    </tr>\n",
              "  </thead>\n",
              "  <tbody>\n",
              "    <tr>\n",
              "      <th>118895</th>\n",
              "      <td>72</td>\n",
              "      <td>61.326263</td>\n",
              "    </tr>\n",
              "    <tr>\n",
              "      <th>118896</th>\n",
              "      <td>68</td>\n",
              "      <td>65.772156</td>\n",
              "    </tr>\n",
              "    <tr>\n",
              "      <th>118897</th>\n",
              "      <td>76</td>\n",
              "      <td>67.252808</td>\n",
              "    </tr>\n",
              "    <tr>\n",
              "      <th>118898</th>\n",
              "      <td>70</td>\n",
              "      <td>64.317543</td>\n",
              "    </tr>\n",
              "    <tr>\n",
              "      <th>118899</th>\n",
              "      <td>74</td>\n",
              "      <td>70.672508</td>\n",
              "    </tr>\n",
              "  </tbody>\n",
              "</table>\n",
              "</div>"
            ],
            "text/plain": [
              "        actual  predicted\n",
              "118895      72  61.326263\n",
              "118896      68  65.772156\n",
              "118897      76  67.252808\n",
              "118898      70  64.317543\n",
              "118899      74  70.672508"
            ]
          },
          "metadata": {
            "tags": []
          },
          "execution_count": 186
        }
      ]
    },
    {
      "cell_type": "code",
      "metadata": {
        "id": "U5ogDwCyWBXM",
        "colab": {
          "base_uri": "https://localhost:8080/"
        },
        "outputId": "26f952d6-8fb0-4f03-a066-861737ae780b"
      },
      "source": [
        "#Statistics on results\r\n",
        "from scipy.stats import ttest_ind\r\n",
        "\r\n",
        "ttest_ind(df['actual'], df['predicted'])\r\n"
      ],
      "execution_count": null,
      "outputs": [
        {
          "output_type": "execute_result",
          "data": {
            "text/plain": [
              "Ttest_indResult(statistic=-47.58512250813055, pvalue=0.0)"
            ]
          },
          "metadata": {
            "tags": []
          },
          "execution_count": 187
        }
      ]
    },
    {
      "cell_type": "markdown",
      "metadata": {
        "id": "FT5MNkXpmZIr"
      },
      "source": [
        "## **Export Model**"
      ]
    },
    {
      "cell_type": "code",
      "metadata": {
        "id": "GO9khSw2kb27"
      },
      "source": [
        "nn_json = nn.to_json()"
      ],
      "execution_count": null,
      "outputs": []
    },
    {
      "cell_type": "code",
      "metadata": {
        "id": "zqHtB6wQlMQe"
      },
      "source": [
        "filepath = 'model.json'\r\n",
        "with open(filepath, 'w') as json_file:\r\n",
        "  json_file.write(nn_json)"
      ],
      "execution_count": null,
      "outputs": []
    },
    {
      "cell_type": "code",
      "metadata": {
        "id": "ycafZyu2lPb6"
      },
      "source": [
        "filepath = 'model.h5'\r\n",
        "nn.save_weights(filepath)"
      ],
      "execution_count": null,
      "outputs": []
    },
    {
      "cell_type": "markdown",
      "metadata": {
        "id": "PA7_uhSlmeQf"
      },
      "source": [
        "## **Import Model**"
      ]
    },
    {
      "cell_type": "code",
      "metadata": {
        "id": "dOvSJoOWlRR1"
      },
      "source": [
        "from tensorflow.keras.models import model_from_json"
      ],
      "execution_count": null,
      "outputs": []
    },
    {
      "cell_type": "code",
      "metadata": {
        "id": "PZcUUKI9lUFG"
      },
      "source": [
        "filepath = 'model.json'\r\n",
        "with open(filepath, 'r') as json_file:\r\n",
        "  model_json = json_file.read()\r\n",
        "\r\n",
        "loaded_model = model_from_json(model_json)"
      ],
      "execution_count": null,
      "outputs": []
    },
    {
      "cell_type": "code",
      "metadata": {
        "id": "K1YZfgf6jega"
      },
      "source": [
        "filepath = 'model.h5'\r\n",
        "loaded_model.load_weights(filepath)"
      ],
      "execution_count": null,
      "outputs": []
    },
    {
      "cell_type": "code",
      "metadata": {
        "colab": {
          "base_uri": "https://localhost:8080/"
        },
        "id": "JVpZC0qbsE47",
        "outputId": "3111902c-b40c-471c-fc67-866bbec80382"
      },
      "source": [
        "X[[-1]]"
      ],
      "execution_count": null,
      "outputs": [
        {
          "output_type": "execute_result",
          "data": {
            "text/plain": [
              "array([[ 0.397679  ,  1.70659306, -0.67194789,  1.73213262, -0.43994672,\n",
              "         0.59537516,  2.99719992, -0.40716413,  0.50522556, -0.10876735,\n",
              "         0.98759566,  0.64239215,  0.35547567, -0.82773067]])"
            ]
          },
          "metadata": {
            "tags": []
          },
          "execution_count": 194
        }
      ]
    },
    {
      "cell_type": "code",
      "metadata": {
        "colab": {
          "base_uri": "https://localhost:8080/"
        },
        "id": "7_Iyz1OVtVvT",
        "outputId": "1fb9a411-8819-48de-b4a2-dc3552b1272d"
      },
      "source": [
        "y[-1]"
      ],
      "execution_count": null,
      "outputs": [
        {
          "output_type": "execute_result",
          "data": {
            "text/plain": [
              "74"
            ]
          },
          "metadata": {
            "tags": []
          },
          "execution_count": 195
        }
      ]
    },
    {
      "cell_type": "code",
      "metadata": {
        "colab": {
          "base_uri": "https://localhost:8080/"
        },
        "id": "-LG6RDHwjfEw",
        "outputId": "e30d98aa-7b5a-49dc-a595-d481c06fd603"
      },
      "source": [
        "#Test prediction\r\n",
        "loaded_model.predict(X[[-1]])\r\n"
      ],
      "execution_count": null,
      "outputs": [
        {
          "output_type": "execute_result",
          "data": {
            "text/plain": [
              "array([[70.67251]], dtype=float32)"
            ]
          },
          "metadata": {
            "tags": []
          },
          "execution_count": 196
        }
      ]
    },
    {
      "cell_type": "code",
      "metadata": {
        "id": "XKsvjJ_7vuqM"
      },
      "source": [
        "#Default\r\n",
        "year=2020\r\n",
        "energy=0.454\r\n",
        "explicit=1\r\n",
        "key=1\r\n",
        "liveness=0.0824\r\n",
        "mode=1\r\n",
        "speechiness=0.375"
      ],
      "execution_count": null,
      "outputs": []
    },
    {
      "cell_type": "markdown",
      "metadata": {
        "id": "jioomhdKmstX"
      },
      "source": [
        "## **Predict User Request**"
      ]
    },
    {
      "cell_type": "code",
      "metadata": {
        "id": "6u2EbCv814qh"
      },
      "source": [
        "#Asking user\r\n",
        "acousticness=0.0194\r\n",
        "danceability=0.935\r\n",
        "duration_ms=187541\r\n",
        "instrumentalness=0\r\n",
        "loudness=-7.5089\r\n",
        "tempo=133.073\r\n",
        "valence=0.357"
      ],
      "execution_count": null,
      "outputs": []
    },
    {
      "cell_type": "code",
      "metadata": {
        "id": "bBW06tCF4M7T"
      },
      "source": [
        "#Form input from user request\r\n",
        "input = [[valence, year, acousticness, danceability,\r\n",
        "       duration_ms, energy, explicit, instrumentalness, key,\r\n",
        "       liveness, loudness, mode, \r\n",
        "       speechiness, tempo]]"
      ],
      "execution_count": null,
      "outputs": []
    },
    {
      "cell_type": "code",
      "metadata": {
        "colab": {
          "base_uri": "https://localhost:8080/"
        },
        "id": "9fCXSiP85lJ8",
        "outputId": "7f03e735-12fb-4e45-fbfa-1803b8f5dbf2"
      },
      "source": [
        "input"
      ],
      "execution_count": null,
      "outputs": [
        {
          "output_type": "execute_result",
          "data": {
            "text/plain": [
              "[[0.357,\n",
              "  2020,\n",
              "  0.0194,\n",
              "  0.935,\n",
              "  187541,\n",
              "  0.454,\n",
              "  1,\n",
              "  0,\n",
              "  1,\n",
              "  0.0824,\n",
              "  -7.5089,\n",
              "  1,\n",
              "  0.375,\n",
              "  133.073]]"
            ]
          },
          "metadata": {
            "tags": []
          },
          "execution_count": 218
        }
      ]
    },
    {
      "cell_type": "code",
      "metadata": {
        "id": "eIWAdVF76xtI"
      },
      "source": [
        "X2 = cleanData.iloc[:, 0:14].values"
      ],
      "execution_count": null,
      "outputs": []
    },
    {
      "cell_type": "code",
      "metadata": {
        "id": "TNWLY0Az7v-g"
      },
      "source": [
        "X2[[-1]] = input"
      ],
      "execution_count": null,
      "outputs": []
    },
    {
      "cell_type": "code",
      "metadata": {
        "colab": {
          "base_uri": "https://localhost:8080/"
        },
        "id": "_fgOx8cm73uJ",
        "outputId": "869bff7b-19a3-42a5-ffea-ca530af5530f"
      },
      "source": [
        "X2[[-1]]"
      ],
      "execution_count": null,
      "outputs": [
        {
          "output_type": "execute_result",
          "data": {
            "text/plain": [
              "array([[ 3.57000e-01,  2.02000e+03,  1.94000e-02,  9.35000e-01,\n",
              "         1.87541e+05,  4.54000e-01,  1.00000e+00,  0.00000e+00,\n",
              "         1.00000e+00,  8.24000e-02, -7.50890e+00,  1.00000e+00,\n",
              "         3.75000e-01,  1.33073e+02]])"
            ]
          },
          "metadata": {
            "tags": []
          },
          "execution_count": 221
        }
      ]
    },
    {
      "cell_type": "code",
      "metadata": {
        "id": "hqXmDGeB5HaC"
      },
      "source": [
        "#Scale input\r\n",
        "scaler = StandardScaler().fit(X2)\r\n",
        "X2 = scaler.transform(X2)"
      ],
      "execution_count": null,
      "outputs": []
    },
    {
      "cell_type": "code",
      "metadata": {
        "colab": {
          "base_uri": "https://localhost:8080/"
        },
        "id": "v7cuTwO38cjY",
        "outputId": "729fa36c-62f3-4381-a0f1-ff357532e406"
      },
      "source": [
        "X2[[-1]]"
      ],
      "execution_count": null,
      "outputs": [
        {
          "output_type": "execute_result",
          "data": {
            "text/plain": [
              "array([[-0.6977437 ,  1.70659306, -1.01656313,  2.18535297, -0.45755973,\n",
              "        -0.47906449,  2.99719992, -0.42535491, -1.19246754, -0.66635184,\n",
              "         0.47913769,  0.64239215,  3.29419585,  0.44067282]])"
            ]
          },
          "metadata": {
            "tags": []
          },
          "execution_count": 223
        }
      ]
    },
    {
      "cell_type": "code",
      "metadata": {
        "id": "QJVveEZn4by7"
      },
      "source": [
        "#Run prediction\r\n",
        "prediction = loaded_model.predict(X2[[-1]])"
      ],
      "execution_count": null,
      "outputs": []
    },
    {
      "cell_type": "code",
      "metadata": {
        "colab": {
          "base_uri": "https://localhost:8080/"
        },
        "id": "nT7XOU_h4lB4",
        "outputId": "0e30562a-da2b-49df-cee6-2eb2673b27bc"
      },
      "source": [
        "#Prediction Result\r\n",
        "prediction[0][0]"
      ],
      "execution_count": null,
      "outputs": [
        {
          "output_type": "execute_result",
          "data": {
            "text/plain": [
              "68.71162"
            ]
          },
          "metadata": {
            "tags": []
          },
          "execution_count": 225
        }
      ]
    },
    {
      "cell_type": "code",
      "metadata": {
        "id": "ahSeG6Hu4xsh"
      },
      "source": [
        ""
      ],
      "execution_count": null,
      "outputs": []
    }
  ]
}